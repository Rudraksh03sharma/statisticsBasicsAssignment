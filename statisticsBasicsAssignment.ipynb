{
  "nbformat": 4,
  "nbformat_minor": 0,
  "metadata": {
    "colab": {
      "provenance": []
    },
    "kernelspec": {
      "name": "python3",
      "display_name": "Python 3"
    },
    "language_info": {
      "name": "python"
    }
  },
  "cells": [
    {
      "cell_type": "markdown",
      "source": [
        "#**Q1->5 What is statistics, and why is it important?**\n",
        "#**Sol->**\n",
        "\n",
        "### What is Statistics?  \n",
        "Statistics is the branch of mathematics that deals with the collection, organization, analysis, interpretation, and presentation of data. It provides methods for making informed decisions based on data, identifying patterns, and drawing meaningful conclusions.\n",
        "\n",
        "### Why is Statistics Important?  \n",
        "1. **Data-Driven Decision Making** – Helps businesses, governments, and individuals make informed choices based on evidence rather than intuition.  \n",
        "2. **Understanding Trends & Patterns** – Identifies trends in data, which is useful in fields like economics, healthcare, and social sciences.  \n",
        "3. **Risk Assessment** – Helps in evaluating risks and making predictions, such as in insurance, finance, and medicine.  \n",
        "4. **Scientific Research** – Essential for designing experiments, testing hypotheses, and validating results in scientific studies.  \n",
        "5. **Quality Control** – Used in industries to ensure products meet certain standards and improve processes.  \n",
        "\n",
        "Statistics plays a crucial role in almost every field, from economics and healthcare to engineering and social sciences, making it an essential tool for problem-solving and decision-making."
      ],
      "metadata": {
        "id": "o4LhRzycTngg"
      }
    },
    {
      "cell_type": "markdown",
      "source": [
        "#**Q2->What are the two main types of statistics?**\n",
        "#**Sol->**\n",
        "The two main types of statistics are:  \n",
        "\n",
        "### 1. **Descriptive Statistics**  \n",
        "   - Descriptive statistics summarize and organize data to make it easier to understand.  \n",
        "   - It includes measures like:  \n",
        "     - **Measures of Central Tendency** (Mean, Median, Mode)  \n",
        "     - **Measures of Dispersion** (Range, Variance, Standard Deviation)  \n",
        "     - **Graphs & Charts** (Histograms, Pie Charts, Bar Graphs)  \n",
        "\n",
        "   **Example:** If a teacher calculates the average score of students in a class, that is descriptive statistics.  \n",
        "\n",
        "### 2. **Inferential Statistics**  \n",
        "   - Inferential statistics allow us to make predictions or generalizations about a larger population based on a sample.  \n",
        "   - It involves:  \n",
        "     - **Hypothesis Testing** (e.g., t-tests, chi-square tests)  \n",
        "     - **Confidence Intervals**  \n",
        "     - **Regression Analysis**  \n",
        "\n",
        "   **Example:** If a researcher surveys 1,000 people to estimate the voting preference of an entire country, that is inferential statistics.  \n",
        "\n",
        "Both types of statistics are essential in analyzing data and making informed decisions."
      ],
      "metadata": {
        "id": "MbbyMy7YUDal"
      }
    },
    {
      "cell_type": "markdown",
      "source": [
        "#**Q3->What are descriptive statistics?**\n",
        "#**Sol->**\n",
        "### **Descriptive Statistics**  \n",
        "Descriptive statistics are methods used to summarize, organize, and present data in a meaningful way. They do not make predictions or inferences but simply describe the data collected.\n",
        "\n",
        "### **Types of Descriptive Statistics:**  \n",
        "\n",
        "1. **Measures of Central Tendency** – Describe the center or average of a dataset:  \n",
        "   - **Mean** – The average of all values.  \n",
        "   - **Median** – The middle value when data is arranged in order.  \n",
        "   - **Mode** – The most frequently occurring value in the dataset.  \n",
        "\n",
        "2. **Measures of Dispersion (Variability)** – Show how spread out the data is:  \n",
        "   - **Range** – Difference between the highest and lowest values.  \n",
        "   - **Variance** – Measures how much data points deviate from the mean.  \n",
        "   - **Standard Deviation** – Square root of variance, indicating the spread of data.  \n",
        "\n",
        "3. **Frequency Distribution** – Shows how often values occur in a dataset:  \n",
        "   - **Tables, charts, and graphs** (e.g., histograms, bar charts, pie charts) are used to visualize data.  \n",
        "\n",
        "### **Example:**  \n",
        "If a teacher records the test scores of students and calculates the average score, the highest and lowest scores, and creates a bar chart to display the scores, these are all examples of descriptive statistics.  \n",
        "\n",
        "Descriptive statistics help in understanding data before making further analysis or predictions."
      ],
      "metadata": {
        "id": "EW9SB2YzUa6k"
      }
    },
    {
      "cell_type": "markdown",
      "source": [
        "#**Q4-> What is inferential statistics?**\n",
        "#**Sol->**\n",
        "### **Inferential Statistics**  \n",
        "Inferential statistics is a branch of statistics that allows us to make predictions, conclusions, or generalizations about a larger population based on a sample of data. Instead of just describing data (as in descriptive statistics), inferential statistics helps in making inferences beyond the immediate data set.  \n",
        "\n",
        "### **Key Concepts in Inferential Statistics:**  \n",
        "\n",
        "1. **Sampling & Population**  \n",
        "   - A **sample** is a subset of data taken from a larger **population**.  \n",
        "   - Inferential statistics uses data from a sample to estimate or test hypotheses about the entire population.  \n",
        "\n",
        "2. **Hypothesis Testing**  \n",
        "   - A method to determine whether a certain claim about a population is true or false using sample data.  \n",
        "   - Example: Testing whether a new drug is more effective than an existing one.  \n",
        "\n",
        "3. **Confidence Intervals**  \n",
        "   - A range of values used to estimate an unknown population parameter.  \n",
        "   - Example: A survey might estimate that 60% of voters support a candidate, with a margin of error of ±3%.  \n",
        "\n",
        "4. **Regression Analysis**  \n",
        "   - Used to find relationships between variables and make predictions.  \n",
        "   - Example: Predicting house prices based on square footage and location.  \n",
        "\n",
        "5. **Probability Distributions**  \n",
        "   - Models that describe how data is distributed, such as normal distribution, binomial distribution, etc.  \n"
      ],
      "metadata": {
        "id": "GB0NkWR_UsNa"
      }
    },
    {
      "cell_type": "markdown",
      "source": [
        "#**Q5->What is sampling in statistics?**\n",
        "#**Sol->**\n",
        "### **What is Sampling in Statistics?**  \n",
        "**Sampling** is the process of selecting a subset (sample) from a larger group (population) to study and make conclusions about the entire population. Since studying an entire population is often impractical, sampling allows for efficient data collection and analysis.  \n",
        "\n",
        "### **Key Terms in Sampling:**  \n",
        "- **Population** – The entire group of individuals or items under study.  \n",
        "- **Sample** – A smaller group selected from the population.  \n",
        "- **Sampling Frame** – A list of all individuals in the population from which the sample is drawn.  \n",
        "\n",
        "### **Types of Sampling Methods:**  \n",
        "\n",
        "#### **1. Probability Sampling (Random Sampling)**\n",
        "Each member of the population has a known and equal chance of being selected.  \n",
        "- **Simple Random Sampling** – Every individual has an equal chance of selection.  \n",
        "- **Stratified Sampling** – Population is divided into subgroups (strata), and a random sample is taken from each.  \n",
        "- **Systematic Sampling** – Selecting every nth individual from a list.  \n",
        "- **Cluster Sampling** – Population is divided into clusters, and entire clusters are randomly selected.  \n",
        "\n",
        "#### **2. Non-Probability Sampling (Non-Random Sampling)**\n",
        "Not every individual has an equal chance of being selected.  \n",
        "- **Convenience Sampling** – Selecting individuals who are easiest to reach.  \n",
        "- **Judgmental (Purposive) Sampling** – Researchers select individuals based on their knowledge or judgment.  \n",
        "- **Quota Sampling** – Ensuring certain groups are represented in a specific proportion.  \n",
        "- **Snowball Sampling** – Participants help recruit more participants (often used for hard-to-reach populations).  \n",
        "\n",
        "### **Why is Sampling Important?**  \n",
        "- Saves time and cost compared to studying an entire population.  \n",
        "- Allows researchers to make inferences and predictions.  \n",
        "- Ensures accuracy and reliability when done correctly.  \n",
        "\n"
      ],
      "metadata": {
        "id": "SNNZD6n0U6OJ"
      }
    },
    {
      "cell_type": "markdown",
      "source": [
        "#**Q6-> What are the different types of sampling methods?**\n",
        "#**Sol->**\n",
        "### **Types of Sampling Methods in Statistics**  \n",
        "\n",
        "Sampling methods are categorized into two main types: **Probability Sampling** and **Non-Probability Sampling**.  \n",
        "\n",
        "---\n",
        "\n",
        "### **1. Probability Sampling (Random Sampling)**  \n",
        "Each individual in the population has a known and equal chance of being selected. This ensures unbiased and representative samples.  \n",
        "\n",
        "#### **a) Simple Random Sampling**  \n",
        "- Every individual in the population has an equal chance of being chosen.  \n",
        "- Example: Drawing names from a hat.  \n",
        "\n",
        "#### **b) Stratified Sampling**  \n",
        "- The population is divided into subgroups (strata) based on characteristics (e.g., age, gender), and random samples are taken from each.  \n",
        "- Example: A school selects students from each grade level proportionally.  \n",
        "\n",
        "#### **c) Systematic Sampling**  \n",
        "- Selecting every nth individual from a list after choosing a random starting point.  \n",
        "- Example: Choosing every 10th customer from a store’s visitor list.  \n",
        "\n",
        "#### **d) Cluster Sampling**  \n",
        "- The population is divided into clusters (groups), and entire clusters are randomly selected.  \n",
        "- Example: A country is divided into regions, and a few regions are randomly chosen for a survey.  \n",
        "\n",
        "#### **e) Multi-Stage Sampling**  \n",
        "- A combination of different sampling methods used in multiple stages.  \n",
        "- Example: Selecting random schools in a district, then randomly choosing students from those schools.  \n",
        "\n",
        "---\n",
        "\n",
        "### **2. Non-Probability Sampling (Non-Random Sampling)**  \n",
        "Selection is based on factors like convenience or judgment, not randomization.  \n",
        "\n",
        "#### **a) Convenience Sampling**  \n",
        "- Choosing individuals who are easiest to reach.  \n",
        "- Example: Interviewing people at a nearby mall.  \n",
        "\n",
        "#### **b) Judgmental (Purposive) Sampling**  \n",
        "- The researcher selects participants based on expertise or criteria.  \n",
        "- Example: A doctor selects specific patients for a clinical trial based on their symptoms.  \n",
        "\n",
        "#### **c) Quota Sampling**  \n",
        "- Ensuring specific groups are represented in a set proportion.  \n",
        "- Example: A survey requires 50% male and 50% female respondents.  \n",
        "\n",
        "#### **d) Snowball Sampling**  \n",
        "- Participants refer others to join the study, often used for hard-to-reach populations.  \n",
        "- Example: Studying a rare disease where existing patients refer others with the condition.  "
      ],
      "metadata": {
        "id": "ZGEU4e5LVNZu"
      }
    },
    {
      "cell_type": "markdown",
      "source": [
        "#**Q7-> What is the difference between random and non-random sampling?**\n",
        "#**Sol->**\n",
        "### **Difference Between Random and Non-Random Sampling**  \n",
        "\n",
        "| Feature              | **Random Sampling** (Probability Sampling) | **Non-Random Sampling** (Non-Probability Sampling) |\n",
        "|----------------------|---------------------------------|---------------------------------|\n",
        "| **Definition**       | A sampling method where each individual has a known and equal chance of being selected. | A sampling method where selection is based on convenience, judgment, or specific criteria, not random chance. |\n",
        "| **Bias**            | Less bias, leading to a more representative sample. | More bias, as selection depends on subjective factors. |\n",
        "| **Generalizability** | Results can be generalized to the whole population. | Results may not accurately represent the population. |\n",
        "| **Sampling Methods** | Simple random, stratified, systematic, cluster, multi-stage sampling. | Convenience, judgmental, quota, snowball sampling. |\n",
        "| **Example**         | Selecting 100 students randomly from a university list. | Surveying the first 100 people who enter a shopping mall. |\n",
        "| **Usage**           | Used in research requiring high accuracy and objectivity (e.g., scientific studies, national surveys). | Used in exploratory research, quick data collection, or when random sampling is impractical. |\n",
        "\n"
      ],
      "metadata": {
        "id": "Xd6EpECGVjHd"
      }
    },
    {
      "cell_type": "markdown",
      "source": [
        "#**Q8-. Define and give examples of qualitative and quantitative data?**\n",
        "#**Sol->**\n",
        "### **Qualitative and Quantitative Data: Definitions & Examples**  \n",
        "\n",
        "#### **1. Qualitative Data (Categorical Data)**  \n",
        "**Definition:**  \n",
        "Qualitative data represents non-numerical information that describes characteristics, qualities, or attributes. It is often categorized but cannot be measured numerically.  \n",
        "\n",
        "**Examples:**  \n",
        "- **Colors** (e.g., red, blue, green)  \n",
        "- **Gender** (e.g., male, female, non-binary)  \n",
        "- **Nationality** (e.g., American, Canadian, Indian)  \n",
        "- **Customer Feedback** (e.g., \"satisfied,\" \"unsatisfied,\" \"neutral\")  \n",
        "- **Types of Cuisine** (e.g., Italian, Mexican, Chinese)  \n",
        "\n",
        "**Types of Qualitative Data:**  \n",
        "- **Nominal Data** – Categories without any order (e.g., eye color, blood type).  \n",
        "- **Ordinal Data** – Categories with a meaningful order but no fixed difference (e.g., education levels: high school, bachelor's, master's, PhD).  \n",
        "\n",
        "---\n",
        "\n",
        "#### **2. Quantitative Data (Numerical Data)**  \n",
        "**Definition:**  \n",
        "Quantitative data represents numerical values that can be measured or counted. It can be analyzed mathematically.  \n",
        "\n",
        "**Examples:**  \n",
        "- **Height** (e.g., 170 cm, 5'8\")  \n",
        "- **Weight** (e.g., 65 kg, 150 lbs)  \n",
        "- **Age** (e.g., 25 years, 40 years)  \n",
        "- **Temperature** (e.g., 37°C, 98.6°F)  \n",
        "- **Number of Students in a Class** (e.g., 30, 45, 50)  \n",
        "\n",
        "**Types of Quantitative Data:**  \n",
        "- **Discrete Data** – Whole numbers, countable values (e.g., number of siblings, number of cars in a parking lot).  \n",
        "- **Continuous Data** – Can take any value within a range (e.g., height, weight, temperature).  \n"
      ],
      "metadata": {
        "id": "hjbMv-IRVxDn"
      }
    },
    {
      "cell_type": "markdown",
      "source": [
        "#**Q9->What are the different types of data in statistics?**\n",
        "#**Sol->**\n",
        "### **Types of Data in Statistics**  \n",
        "\n",
        "Data in statistics can be classified into **two main categories**: **Qualitative (Categorical) Data** and **Quantitative (Numerical) Data**. These are further divided into subtypes.  \n",
        "\n",
        "---\n",
        "\n",
        "### **1. Qualitative Data (Categorical Data)**  \n",
        "Qualitative data represents descriptive information that cannot be measured numerically. It is categorized into groups.  \n",
        "\n",
        "#### **a) Nominal Data** (No Order)  \n",
        "- Represents categories without a specific order.  \n",
        "- Example:  \n",
        "  - Eye Color: **Blue, Brown, Green**  \n",
        "  - Gender: **Male, Female, Non-binary**  \n",
        "  - Blood Type: **A, B, AB, O**  \n",
        "\n",
        "#### **b) Ordinal Data** (Ordered Categories)  \n",
        "- Categories have a meaningful order, but the differences between them are not measurable.  \n",
        "- Example:  \n",
        "  - Education Level: **High School, Bachelor’s, Master’s, PhD**  \n",
        "  - Satisfaction Level: **Dissatisfied, Neutral, Satisfied**  \n",
        "  - Military Ranks: **Lieutenant, Captain, Major**  \n",
        "\n",
        "---\n",
        "\n",
        "### **2. Quantitative Data (Numerical Data)**  \n",
        "Quantitative data consists of numerical values that can be measured or counted.  \n",
        "\n",
        "#### **a) Discrete Data** (Countable, Whole Numbers)  \n",
        "- Represents whole numbers that cannot have decimal values.  \n",
        "- Example:  \n",
        "  - **Number of students in a class** (e.g., 30, 45, 50)  \n",
        "  - **Number of cars in a parking lot** (e.g., 10, 20, 35)  \n",
        "  - **Number of books on a shelf** (e.g., 15, 27, 42)  \n",
        "\n",
        "#### **b) Continuous Data** (Measurable, Can Have Decimals)  \n",
        "- Represents values that can take any number within a range, including decimals.  \n",
        "- Example:  \n",
        "  - **Height** (e.g., 5.7 ft, 170.5 cm)  \n",
        "  - **Weight** (e.g., 65.4 kg, 120.3 lbs)  \n",
        "  - **Temperature** (e.g., 36.5°C, 98.6°F)  \n"
      ],
      "metadata": {
        "id": "mvR2S_AuWBx3"
      }
    },
    {
      "cell_type": "markdown",
      "source": [
        "#**Q10->Explain nominal, ordinal, interval, and ratio levels of measurement?**\n",
        "#**Sol->**\n",
        "### **Levels of Measurement in Statistics**  \n",
        "\n",
        "The four levels of measurement define how data is classified, analyzed, and interpreted. They are **Nominal, Ordinal, Interval, and Ratio**.  \n",
        "\n",
        "---\n",
        "\n",
        "### **1. Nominal Level (Categorical, No Order)**  \n",
        "- Data consists of categories with **no meaningful order** or ranking.  \n",
        "- Used for **classification and labeling** only.  \n",
        "- **No mathematical operations** can be performed except counting.  \n",
        "\n",
        "**Examples:**  \n",
        "- Eye Color: **Blue, Brown, Green**  \n",
        "- Gender: **Male, Female, Non-binary**  \n",
        "- Blood Type: **A, B, AB, O**  \n",
        "- Types of Pets: **Dog, Cat, Bird**  \n",
        "\n",
        "**Key Properties:**  \n",
        " Categories **cannot** be ordered.  \n",
        " No numerical meaning.  \n",
        " Cannot calculate meaningful averages or differences.  \n",
        "\n",
        "---\n",
        "\n",
        "### **2. Ordinal Level (Categorical, Ordered)**  \n",
        "- Data is categorized with a **meaningful order or ranking** but **unequal intervals**.  \n",
        "- **Differences between ranks are not measurable or consistent**.  \n",
        "\n",
        "**Examples:**  \n",
        "- Education Level: **High School < Bachelor's < Master’s < PhD**  \n",
        "- Satisfaction Rating: **Dissatisfied < Neutral < Satisfied**  \n",
        "- Military Ranks: **Lieutenant < Captain < Major**  \n",
        "\n",
        "**Key Properties:**  \n",
        " Categories **can** be ranked.  \n",
        " Order matters.  \n",
        " Differences between ranks are **not equal** (e.g., the gap between \"Neutral\" and \"Satisfied\" is subjective).  \n",
        "\n",
        "---\n",
        "\n",
        "### **3. Interval Level (Numerical, No True Zero)**  \n",
        "- Data is **numerical**, with equal intervals between values.  \n",
        "- **No true zero** (zero does not mean \"nothing\").  \n",
        "- **Addition & subtraction** are meaningful, but **ratios are not**.  \n",
        "\n",
        "**Examples:**  \n",
        "- Temperature in **Celsius or Fahrenheit** (0°C ≠ No Temperature)  \n",
        "- IQ Scores (120 is not \"twice as smart\" as 60)  \n",
        "- Years in a Calendar (2000 AD, 2024 AD)  \n",
        "\n",
        "**Key Properties:**  \n",
        " Ordered and **equal intervals**.  \n",
        " Can **add and subtract** values.  \n",
        " No \"true zero,\" so **ratios don’t make sense** (e.g., 20°C is not \"twice as hot\" as 10°C).  \n",
        "\n",
        "---\n",
        "\n",
        "### **4. Ratio Level (Numerical, True Zero Exists)**  \n",
        "- Data is **numerical**, with **equal intervals** and a **true zero** (zero means \"nothing\").  \n",
        "- **All mathematical operations** (addition, subtraction, multiplication, division) are meaningful.  \n",
        "\n",
        "**Examples:**  \n",
        "- Height (0 cm means no height)  \n",
        "- Weight (0 kg means no weight)  \n",
        "- Age (0 years means not born yet)  \n",
        "- Salary (0 dollars means no income)  \n",
        "\n",
        "**Key Properties:**  \n",
        " Ordered with **equal intervals**.  \n",
        " **True zero** exists.  \n",
        " **All mathematical operations** are valid (ratios make sense: 10 kg is twice as heavy as 5 kg).  \n"
      ],
      "metadata": {
        "id": "EwByIzBXWbsU"
      }
    },
    {
      "cell_type": "markdown",
      "source": [
        "#**Q11->What is the measure of central tendency?**\n",
        "#**Sol->**\n",
        "### **Measure of Central Tendency**  \n",
        "\n",
        "The **measure of central tendency** refers to statistical values that describe the center or \"average\" of a dataset. These measures help summarize data by identifying a central point. The three main measures are **Mean, Median, and Mode**.  \n",
        "\n",
        "---\n",
        "\n",
        "### **1. Mean (Arithmetic Average)**  \n",
        "- The sum of all values divided by the number of values.  \n",
        "- Best for **normally distributed** data.  \n",
        "\n",
        "**Formula:**  \n",
        "\\[\n",
        "\\text{Mean} = \\frac{\\sum X}{N}\n",
        "\\]\n",
        "where:  \n",
        "- \\( \\sum X \\) = Sum of all values  \n",
        "- \\( N \\) = Number of values  \n",
        "\n",
        "**Example:**  \n",
        "If the test scores are **60, 70, 80, 90**,  \n",
        "\\[\n",
        "\\text{Mean} = \\frac{60+70+80+90}{4} = \\frac{300}{4} = 75\n",
        "\\]\n",
        "\n",
        " Used in: Salaries, Test Scores, Temperature.  \n",
        " Affected by extreme values (**outliers**).  \n",
        "\n",
        "---\n",
        "\n",
        "### **2. Median (Middle Value)**  \n",
        "- The middle value when data is arranged in **ascending order**.  \n",
        "- Best for **skewed distributions** or when **outliers** are present.  \n",
        "\n",
        "**Steps to Find Median:**  \n",
        "- Arrange the data in order.  \n",
        "- If **odd** number of values → Median = Middle value.  \n",
        "- If **even** number of values → Median = Average of two middle values.  \n",
        "\n",
        "**Example:**  \n",
        "Dataset: **25, 30, 35, 40, 100**  \n",
        "- Ordered: **25, 30, 35, 40, 100**  \n",
        "- Median = **35** (middle value)  \n",
        "\n",
        "Dataset: **10, 20, 30, 40**  \n",
        "- Ordered: **10, 20, 30, 40**  \n",
        "- Median = \\( \\frac{20+30}{2} = 25 \\)  \n",
        "\n",
        " Used in: House Prices, Income Levels.  \n",
        " Does not consider all data points.  \n",
        "\n",
        "---\n",
        "\n",
        "### **3. Mode (Most Frequent Value)**  \n",
        "- The **most frequently occurring** value in a dataset.  \n",
        "- Best for **categorical data**.  \n",
        "\n",
        "**Example:**  \n",
        "Dataset: **2, 3, 3, 5, 7, 8, 8, 8, 10**  \n",
        "- Mode = **8** (appears the most times).  \n",
        "\n",
        "Dataset: **Apple, Banana, Banana, Orange, Apple, Apple**  \n",
        "- Mode = **Apple** (most frequent fruit).  \n",
        "\n",
        " Used in: Market Trends, Elections (most common vote).  \n",
        " A dataset can have **no mode** or **multiple modes**.  \n",
        "\n"
      ],
      "metadata": {
        "id": "NYiFhiV0W3Xl"
      }
    },
    {
      "cell_type": "markdown",
      "source": [
        "#Q**12->Define mean, median, and mode.**\n",
        "#**Sol->**\n",
        "### **Definitions of Mean, Median, and Mode**  \n",
        "\n",
        "#### **1. Mean (Arithmetic Average)**  \n",
        "The mean is the sum of all values in a dataset divided by the total number of values. It represents the average value of the dataset.  \n",
        "\n",
        "**Formula:**  \n",
        "\\[\n",
        "\\text{Mean} = \\frac{\\sum X}{N}\n",
        "\\]  \n",
        "where:  \n",
        "- \\( \\sum X \\) = Sum of all values  \n",
        "- \\( N \\) = Total number of values  \n",
        "\n",
        "**Example:**  \n",
        "Numbers: **10, 20, 30, 40, 50**  \n",
        "\\[\n",
        "\\text{Mean} = \\frac{10+20+30+40+50}{5} = \\frac{150}{5} = 30\n",
        "\\]  \n",
        "\n",
        " Best for normally distributed data.  \n",
        " Affected by outliers (extreme values).  \n",
        "\n",
        "---\n",
        "\n",
        "#### **2. Median (Middle Value)**  \n",
        "The median is the middle number of a dataset when arranged in **ascending order**. If there are an **odd** number of values, the median is the middle one. If there are an **even** number of values, the median is the average of the two middle numbers.  \n",
        "\n",
        "**Example 1 (Odd number of values):**  \n",
        "Numbers: **5, 10, 15, 20, 25**  \n",
        "- Ordered: **5, 10, 15, 20, 25**  \n",
        "- **Median = 15** (middle value)  \n",
        "\n",
        "**Example 2 (Even number of values):**  \n",
        "Numbers: **10, 20, 30, 40**  \n",
        "- Ordered: **10, 20, 30, 40**  \n",
        "- **Median = \\( \\frac{20+30}{2} = 25 \\)**  \n",
        "\n",
        " Best for skewed data or data with outliers.  \n",
        " Does not consider all values in calculations.  \n",
        "\n",
        "---\n",
        "\n",
        "#### **3. Mode (Most Frequent Value)**  \n",
        "The mode is the number that appears **most frequently** in a dataset. A dataset can have:  \n",
        "- **No mode** (if no value repeats).  \n",
        "- **One mode** (unimodal).  \n",
        "- **Two modes** (bimodal).  \n",
        "- **More than two modes** (multimodal).  \n",
        "\n",
        "**Example 1 (Unimodal):**  \n",
        "Numbers: **2, 3, 4, 4, 5, 6, 7**  \n",
        "- Mode = **4** (appears twice).  \n",
        "\n",
        "**Example 2 (Bimodal):**  \n",
        "Numbers: **1, 2, 2, 3, 4, 4, 5**  \n",
        "- Modes = **2 and 4** (both appear twice).  \n",
        "\n",
        " Best for categorical data or data with repeating values.  \n",
        " A dataset may have no mode or multiple modes.  \n"
      ],
      "metadata": {
        "id": "a4cs4485Xgqd"
      }
    },
    {
      "cell_type": "markdown",
      "source": [
        "#**Q13-> What is the significance of the measure of central tendency?**\n",
        "#**Sol->**\n",
        "### **Significance of the Measure of Central Tendency**  \n",
        "\n",
        "The **measure of central tendency** (Mean, Median, and Mode) is essential in statistics because it helps summarize and interpret data efficiently. Here are **five key significances**:  \n",
        "\n",
        "---\n",
        "\n",
        "### **1. Data Summarization**  \n",
        "- Reduces large datasets to a single representative value.  \n",
        "- Helps in quick understanding and interpretation of data.  \n",
        "- Example: Instead of analyzing 1,000 test scores, we can report the average (mean) score.  \n",
        "\n",
        "---\n",
        "\n",
        "### **2. Decision-Making and Comparisons**  \n",
        "- Helps businesses, governments, and researchers make informed decisions.  \n",
        "- Example: Companies use average salaries (mean) to set competitive pay scales.  \n",
        "\n",
        "---\n",
        "\n",
        "### **3. Identifying Trends and Patterns**  \n",
        "- Mode is useful for recognizing the most common occurrences in a dataset.  \n",
        "- Example: In market research, the most purchased product (mode) helps businesses understand consumer preferences.  \n",
        "\n",
        "---\n",
        "\n",
        "### **4. Handling Skewed Data and Outliers**  \n",
        "- Median is useful when data has **outliers** or is **skewed**, providing a better measure of central tendency.  \n",
        "- Example: When analyzing income distribution, the **median salary** is more accurate than the mean, as it is not affected by extreme values.  \n",
        "\n",
        "---\n",
        "\n",
        "### **5. Basis for Further Statistical Analysis**  \n",
        "- The mean is a foundation for many advanced statistical concepts like variance, standard deviation, and hypothesis testing.  \n",
        "- Example: Researchers use the mean in experiments to compare different groups and draw conclusions.  "
      ],
      "metadata": {
        "id": "f5nIpe8OX9M_"
      }
    },
    {
      "cell_type": "markdown",
      "source": [
        "#**Q14->What is variance, and how is it calculated?**\n",
        "#**Sol->**\n",
        "### **Variance: Definition and Calculation**  \n",
        "\n",
        "#### **1. Definition of Variance**  \n",
        "Variance (\\(\\sigma^2\\)) is a statistical measure that shows how much the data values **spread out** from the **mean**. A **higher variance** indicates that the data points are more spread out, while a **lower variance** means they are closer to the mean.  \n",
        "\n",
        "---\n",
        "\n",
        "#### **2. Formula for Variance**  \n",
        "\n",
        "For a **population variance (\\(\\sigma^2\\))**:  \n",
        "\\[\n",
        "\\sigma^2 = \\frac{\\sum (X - \\mu)^2}{N}\n",
        "\\]  \n",
        "For a **sample variance (\\(s^2\\))**:  \n",
        "\\[\n",
        "s^2 = \\frac{\\sum (X - \\bar{X})^2}{n-1}\n",
        "\\]  \n",
        "\n",
        "Where:  \n",
        "- \\(X\\) = Individual data values  \n",
        "- \\(\\mu\\) = Population mean  \n",
        "- \\(\\bar{X}\\) = Sample mean  \n",
        "- \\(N\\) = Total number of data points in the population  \n",
        "- \\(n\\) = Total number of data points in the sample  \n",
        "\n",
        "---\n",
        "\n",
        "#### **3. Steps to Calculate Variance**  \n",
        "\n",
        "1. **Find the Mean (\\(\\bar{X}\\))**:  \n",
        "   - Sum all data values and divide by the number of values.  \n",
        "\n",
        "2. **Find Each Deviation from the Mean**:  \n",
        "   - Subtract the mean from each data value.  \n",
        "\n",
        "3. **Square Each Deviation**:  \n",
        "   - Squaring removes negative signs and emphasizes larger deviations.  \n",
        "\n",
        "4. **Find the Average of Squared Deviations**:  \n",
        "   - For population: Divide by \\(N\\).  \n",
        "   - For sample: Divide by \\(n-1\\) (this corrects bias in estimation).  \n",
        "\n",
        "---\n",
        "\n",
        "#### **4. Example Calculation**  \n",
        "\n",
        "Given the dataset: **5, 7, 9, 10, 14**  \n",
        "\n",
        "**Step 1: Calculate the Mean (\\(\\bar{X}\\))**  \n",
        "\\[\n",
        "\\bar{X} = \\frac{5 + 7 + 9 + 10 + 14}{5} = \\frac{45}{5} = 9\n",
        "\\]\n",
        "\n",
        "**Step 2: Find Deviations from the Mean**  \n",
        "\\[\n",
        "(5-9) = -4, \\quad (7-9) = -2, \\quad (9-9) = 0, \\quad (10-9) = 1, \\quad (14-9) = 5\n",
        "\\]\n",
        "\n",
        "**Step 3: Square Each Deviation**  \n",
        "\\[\n",
        "(-4)^2 = 16, \\quad (-2)^2 = 4, \\quad (0)^2 = 0, \\quad (1)^2 = 1, \\quad (5)^2 = 25\n",
        "\\]\n",
        "\n",
        "**Step 4: Find the Variance**  \n",
        "\n",
        "For **population variance (\\(\\sigma^2\\))**:  \n",
        "\\[\n",
        "\\sigma^2 = \\frac{16 + 4 + 0 + 1 + 25}{5} = \\frac{46}{5} = 9.2\n",
        "\\]\n",
        "\n",
        "For **sample variance (\\(s^2\\))**:  \n",
        "\\[\n",
        "s^2 = \\frac{46}{5-1} = \\frac{46}{4} = 11.5\n",
        "\\]\n",
        "\n",
        "---\n",
        "\n",
        "### **5. Importance of Variance**  \n",
        "- Helps understand the **spread** of data.  \n",
        "- Used in **risk analysis**, **finance**, **quality control**, and **machine learning**.  \n",
        "- A foundation for **standard deviation** (which is simply the square root of variance).  \n",
        "\n",
        "Thus, **variance is a key measure of data dispersion in statistics!** 🚀"
      ],
      "metadata": {
        "id": "1jJtMrKHYPo7"
      }
    },
    {
      "cell_type": "markdown",
      "source": [
        "#**Q15->What is standard deviation, and why is it important?**\n",
        "#**Sol->**\n",
        "### **Standard Deviation: Definition and Importance**  \n",
        "\n",
        "#### **1. Definition of Standard Deviation**  \n",
        "Standard deviation (\\(\\sigma\\) for population, \\(s\\) for sample) measures the **spread** or **dispersion** of data relative to the mean. It is the square root of variance and indicates how much individual data points deviate from the average.  \n",
        "\n",
        "**Formula:**  \n",
        "For a **population**:  \n",
        "\\[\n",
        "\\sigma = \\sqrt{\\frac{\\sum (X - \\mu)^2}{N}}\n",
        "\\]  \n",
        "For a **sample**:  \n",
        "\\[\n",
        "s = \\sqrt{\\frac{\\sum (X - \\bar{X})^2}{n-1}}\n",
        "\\]  \n",
        "\n",
        "Where:  \n",
        "- \\(X\\) = Individual data values  \n",
        "- \\(\\mu\\) = Population mean  \n",
        "- \\(\\bar{X}\\) = Sample mean  \n",
        "- \\(N\\) = Population size  \n",
        "- \\(n\\) = Sample size  \n",
        "\n",
        "---\n",
        "\n",
        "#### **2. Why is Standard Deviation Important?**  \n",
        "\n",
        "1. **Measures Data Variability**  \n",
        "   - A **small** standard deviation means data points are **close** to the mean.  \n",
        "   - A **large** standard deviation means data points are **widely spread**.  \n",
        "\n",
        "2. **Helps Compare Different Datasets**  \n",
        "   - Example: Two test scores (Class A: \\( \\sigma = 5 \\), Class B: \\( \\sigma = 15 \\)).  \n",
        "   - Class B has more variation in scores, meaning students have more diverse performance.  \n",
        "\n",
        "3. **Essential in Risk Analysis**  \n",
        "   - Used in finance to measure investment risks.  \n",
        "   - A stock with a high standard deviation is **more volatile**, meaning higher risk.  \n",
        "\n",
        "4. **Foundation for Many Statistical Methods**  \n",
        "   - Used in **confidence intervals, hypothesis testing, and normal distribution analysis**.  \n",
        "\n",
        "5. **Detects Outliers and Anomalies**  \n",
        "   - If a value is **more than 2-3 standard deviations** away from the mean, it might be an outlier.  \n",
        "\n",
        "\n",
        "\n",
        "\n",
        "\n"
      ],
      "metadata": {
        "id": "2gIseGfNYh0n"
      }
    },
    {
      "cell_type": "markdown",
      "source": [
        "#**Q16->Define and explain the term range in statistics.**\n",
        "#**Sol->**\n",
        "### **Range in Statistics: Definition and Explanation**  \n",
        "\n",
        "#### **1. Definition of Range**  \n",
        "The **range** is a simple measure of dispersion that represents the difference between the **largest** and **smallest** values in a dataset. It shows the **spread** of data but does not consider how data is distributed between the minimum and maximum values.  \n",
        "\n",
        "**Formula:**  \n",
        "\\[\n",
        "\\text{Range} = \\text{Maximum Value} - \\text{Minimum Value}\n",
        "\\]\n",
        "\n",
        "---\n",
        "\n",
        "#### **2. Explanation and Example**  \n",
        "\n",
        "**Example 1:**  \n",
        "Consider the dataset: **5, 12, 18, 25, 30**  \n",
        "- **Maximum value** = 30  \n",
        "- **Minimum value** = 5  \n",
        "\\[\n",
        "\\text{Range} = 30 - 5 = 25\n",
        "\\]\n",
        "\n",
        "**Example 2 (With Outliers):**  \n",
        "Dataset: **5, 7, 9, 10, 100**  \n",
        "- **Maximum value** = 100  \n",
        "- **Minimum value** = 5  \n",
        "\\[\n",
        "\\text{Range} = 100 - 5 = 95\n",
        "\\]  \n",
        "In this case, the range is large due to the **outlier (100)**.\n",
        "\n",
        "---\n",
        "\n",
        "#### **3. Importance of Range**  \n",
        "1. **Measures Data Spread**  \n",
        "   - The range helps understand how widely the data values are distributed.  \n",
        "\n",
        "2. **Quick and Easy to Calculate**  \n",
        "   - It is the **simplest** measure of dispersion, requiring only two values.  \n",
        "\n",
        "3. **Identifies Data Variability**  \n",
        "   - A **small range** means data points are close together.  \n",
        "   - A **large range** suggests greater variability.  \n",
        "\n",
        "4. **Sensitive to Outliers**  \n",
        "   - The range **increases significantly** if there are extreme values, making it **less reliable** in some cases.  \n",
        "\n",
        "---\n",
        "\n",
        "### **4. Limitations of Range**  \n",
        "- **Ignores Distribution of Data**: It only considers the highest and lowest values, not how other data points are spread.  \n",
        "- **Sensitive to Outliers**: A single extreme value can drastically change the range.  \n"
      ],
      "metadata": {
        "id": "sH91CD8XY7Dg"
      }
    },
    {
      "cell_type": "markdown",
      "source": [
        "#**Q17->What is the difference between variance and standard deviation?**\n",
        "#**Sol->**\n",
        "### **Difference Between Variance and Standard Deviation**  \n",
        "\n",
        "Variance and standard deviation are both measures of **data dispersion**, but they have key differences in their interpretation and calculation.  \n",
        "\n",
        "| **Feature**         | **Variance (\\(\\sigma^2\\) or \\(s^2\\))**  | **Standard Deviation (\\(\\sigma\\) or \\(s\\))**  |\n",
        "|--------------------|--------------------------------|--------------------------------|\n",
        "| **Definition**     | Measures the **average squared** deviation from the mean. | Measures the **average deviation** from the mean. |\n",
        "| **Formula** (Population) | \\( \\sigma^2 = \\frac{\\sum (X - \\mu)^2}{N} \\) | \\( \\sigma = \\sqrt{\\frac{\\sum (X - \\mu)^2}{N}} \\) |\n",
        "| **Formula** (Sample) | \\( s^2 = \\frac{\\sum (X - \\bar{X})^2}{n-1} \\) | \\( s = \\sqrt{\\frac{\\sum (X - \\bar{X})^2}{n-1}} \\) |\n",
        "| **Unit of Measurement** | **Squared** units of the original data. | **Same** units as the original data. |\n",
        "| **Interpretation** | More abstract; harder to interpret because of squared values. | More intuitive and directly relates to the data spread. |\n",
        "| **Effect of Large Values** | Large deviations have an **amplified** effect due to squaring. | Less exaggerated impact compared to variance. |\n"
      ],
      "metadata": {
        "id": "FQ9BA7ZYZO7a"
      }
    },
    {
      "cell_type": "markdown",
      "source": [
        "#**Q18->What is skewness in a dataset?**\n",
        "#**Sol->**\n",
        "### **Skewness in a Dataset: Definition and Explanation**  \n",
        "\n",
        "#### **1. Definition of Skewness**  \n",
        "Skewness is a statistical measure that describes the **asymmetry** of a dataset’s distribution. It indicates whether data points are more concentrated on one side of the mean.  \n",
        "\n",
        "- **Positive Skew (Right-Skewed)**: Tail is longer on the right.  \n",
        "- **Negative Skew (Left-Skewed)**: Tail is longer on the left.  \n",
        "- **Zero Skew (Symmetric Distribution)**: Data is evenly distributed around the mean.  \n",
        "\n",
        "---\n",
        "\n",
        "#### **2. Types of Skewness**  \n",
        "\n",
        "1. **Positive Skew (Right-Skewed Distribution)**  \n",
        "   - The **tail** extends to the **right**.  \n",
        "   - Mean **>** Median **>** Mode.  \n",
        "   - Example: Income distribution (a few very high incomes increase the mean).  \n",
        "\n",
        "2. **Negative Skew (Left-Skewed Distribution)**  \n",
        "   - The **tail** extends to the **left**.  \n",
        "   - Mean **<** Median **<** Mode.  \n",
        "   - Example: Exam scores (many high scores, few low ones).  \n",
        "\n",
        "3. **Zero Skew (Symmetrical Distribution)**  \n",
        "   - The **left and right sides** are balanced.  \n",
        "   - Mean = Median = Mode.  \n",
        "   - Example: Normally distributed data, such as IQ scores.  \n",
        "\n",
        "---\n",
        "\n",
        "#### **3. Formula for Skewness**  \n",
        "\n",
        "\\[\n",
        "\\text{Skewness} = \\frac{n}{(n-1)(n-2)} \\sum \\left(\\frac{X_i - \\bar{X}}{s}\\right)^3\n",
        "\\]\n",
        "\n",
        "Where:  \n",
        "- \\( X_i \\) = Individual data points  \n",
        "- \\( \\bar{X} \\) = Mean  \n",
        "- \\( s \\) = Standard deviation  \n",
        "- \\( n \\) = Number of data points  \n",
        "\n",
        "A **positive skewness value** indicates **right skew**, while a **negative skewness value** indicates **left skew**.\n",
        "\n",
        "---\n",
        "\n",
        "#### **4. Importance of Skewness**  \n",
        "\n",
        "- **Impacts Mean & Median**: Helps choose the best measure of central tendency.  \n",
        "- **Affects Statistical Analysis**: Many statistical models assume **normality**, so skewness can indicate a need for data transformation.  \n",
        "- **Used in Risk Management**: In finance, right-skewed returns may indicate higher profits, while left-skewed returns suggest potential losses.  \n",
        "\n"
      ],
      "metadata": {
        "id": "Bocc8FKcZlv_"
      }
    },
    {
      "cell_type": "markdown",
      "source": [
        "#**Q19->What does it mean if a dataset is positively or negatively skewed?**\n",
        "#**Sol->**\n",
        "### **What It Means If a Dataset Is Positively or Negatively Skewed**  \n",
        "\n",
        "**Skewness** describes the asymmetry of a dataset's distribution. A dataset can be **positively skewed** (right-skewed) or **negatively skewed** (left-skewed), affecting the relationship between the **mean, median, and mode**.  \n",
        "\n",
        "---\n",
        "\n",
        "### **1. Positively Skewed (Right-Skewed) Distribution**  \n",
        " **Characteristics:**  \n",
        "- **Tail extends to the right** (higher values are more spread out).  \n",
        "- **Mean > Median > Mode** (The mean is pulled toward the right due to larger values).  \n",
        "- Most data points are concentrated on the **left**.  \n",
        "\n",
        " **Examples:**  \n",
        "- Income distribution (a few high salaries increase the mean).  \n",
        "- House prices in a city (a few expensive homes raise the average).  \n",
        "- Stock market returns (some stocks gain significantly while most remain stable).  \n",
        "\n",
        "---\n",
        "\n",
        "### **2. Negatively Skewed (Left-Skewed) Distribution**  \n",
        " **Characteristics:**  \n",
        "- **Tail extends to the left** (lower values are more spread out).  \n",
        "- **Mean < Median < Mode** (The mean is pulled toward the left due to smaller values).  \n",
        "- Most data points are concentrated on the **right**.  \n",
        "\n",
        " **Examples:**  \n",
        "- Exam scores (most students score high, but a few very low scores drag the mean down).  \n",
        "- Retirement age distribution (most retire around a certain age, but a few retire much earlier).  \n",
        "- Product defect rates (most products have zero defects, but a few have many).  \n",
        "\n",
        "---\n",
        "\n"
      ],
      "metadata": {
        "id": "n3jYan_rZy5M"
      }
    },
    {
      "cell_type": "markdown",
      "source": [
        "#**Q20->Define and explain kurtosis?**\n",
        "#Sol->\n",
        "### **Kurtosis: Definition and Explanation**  \n",
        "\n",
        "#### **1. Definition of Kurtosis**  \n",
        "Kurtosis is a statistical measure that describes the **shape of a dataset’s distribution**, specifically focusing on the **\"tailedness\"** (how extreme values or outliers behave). It tells us whether the data has **heavier** or **lighter tails** compared to a normal distribution.  \n",
        "\n",
        "**Formula for Kurtosis:**  \n",
        "\\[\n",
        "K = \\frac{n(n+1)}{(n-1)(n-2)(n-3)} \\sum \\left(\\frac{X_i - \\bar{X}}{s}\\right)^4 - \\frac{3(n-1)^2}{(n-2)(n-3)}\n",
        "\\]\n",
        "Where:  \n",
        "- \\( X_i \\) = Individual data points  \n",
        "- \\( \\bar{X} \\) = Mean  \n",
        "- \\( s \\) = Standard deviation  \n",
        "- \\( n \\) = Number of data points  \n",
        "\n",
        "The **excess kurtosis** (computed by subtracting 3) helps compare distributions to a normal distribution.  \n",
        "\n",
        "---\n",
        "\n",
        "### **2. Types of Kurtosis**  \n",
        "\n",
        "1. **Mesokurtic (Kurtosis ≈ 3, Excess Kurtosis ≈ 0)**  \n",
        "   - **Normal distribution** with **moderate tails**.  \n",
        "   - Example: Standard normal distribution.  \n",
        "\n",
        "2. **Leptokurtic (Kurtosis > 3, Excess Kurtosis > 0)**  \n",
        "   - **Heavy tails**, meaning more extreme values or outliers.  \n",
        "   - Data is **more peaked** than normal distribution.  \n",
        "   - Example: Stock market crashes, lottery winnings.  \n",
        "\n",
        "3. **Platykurtic (Kurtosis < 3, Excess Kurtosis < 0)**  \n",
        "   - **Light tails**, meaning fewer extreme values.  \n",
        "   - Data is **flatter** than normal distribution.  \n",
        "   - Example: Uniform distribution, small variations in test scores.  \n",
        "\n",
        "---\n",
        "\n",
        "### **3. Why Is Kurtosis Important?**  \n",
        "- **Identifies Outliers & Risks**: High kurtosis means more extreme values, which is crucial in risk analysis (e.g., finance, quality control).  \n",
        "- **Affects Statistical Modeling**: Some models assume normality; excess kurtosis can indicate the need for data transformation.  \n",
        "- **Improves Data Interpretation**: Helps understand whether a dataset has many extreme values or if values are tightly clustered.  \n",
        "\n"
      ],
      "metadata": {
        "id": "8LhGmwN7aD6G"
      }
    },
    {
      "cell_type": "markdown",
      "source": [
        "#**Q21-> What is the purpose of covariance.**\n",
        "#**Sol->**\n",
        "### **Purpose of Covariance in Statistics**  \n",
        "\n",
        "#### **1. Definition of Covariance**  \n",
        "Covariance measures the **direction of the relationship** between two variables. It indicates whether two variables increase or decrease **together** or move in **opposite directions**.  \n",
        "\n",
        "**Formula for Covariance:**  \n",
        "\n",
        "For a **population**:  \n",
        "\\[\n",
        "\\text{Cov}(X, Y) = \\frac{\\sum (X_i - \\mu_X)(Y_i - \\mu_Y)}{N}\n",
        "\\]  \n",
        "\n",
        "For a **sample**:  \n",
        "\\[\n",
        "\\text{Cov}(X, Y) = \\frac{\\sum (X_i - \\bar{X})(Y_i - \\bar{Y})}{n-1}\n",
        "\\]  \n",
        "\n",
        "Where:  \n",
        "- \\( X_i, Y_i \\) = Data points of variables **X** and **Y**  \n",
        "- \\( \\mu_X, \\mu_Y \\) = Population means of **X** and **Y**  \n",
        "- \\( \\bar{X}, \\bar{Y} \\) = Sample means of **X** and **Y**  \n",
        "- \\( N, n \\) = Number of data points (population or sample size)  \n",
        "\n",
        "---\n",
        "\n",
        "#### **2. Purpose of Covariance**  \n",
        "\n",
        "1. **Determines Relationship Direction**  \n",
        "   - **Positive Covariance** → Both variables move **together** (e.g., study hours & grades).  \n",
        "   - **Negative Covariance** → Variables move **opposite** to each other (e.g., price of goods & demand).  \n",
        "\n",
        "2. **Used in Portfolio Management (Finance)**  \n",
        "   - Helps investors **diversify** assets by finding negatively correlated stocks to reduce risk.  \n",
        "\n",
        "3. **Foundation for Correlation**  \n",
        "   - Correlation is a **scaled** version of covariance, making comparisons easier.  \n",
        "\n",
        "4. **Used in Machine Learning & Statistics**  \n",
        "   - Helps in **feature selection** by analyzing variable relationships in datasets.  \n",
        "\n",
        "5. **Measures Variability Between Two Variables**  \n",
        "   - Explains **how one variable influences another**, aiding in predictive analysis.  \n",
        "\n",
        "---\n",
        "\n",
        "#### **3. Limitations of Covariance**  \n",
        "- **Only shows direction**, not strength of relationship.  \n",
        "- **Units depend on data**, making interpretation difficult.  \n",
        "- **Correlation (normalized covariance)** is often preferred for better insights.  \n",
        "\n"
      ],
      "metadata": {
        "id": "FR7FTIp_aWbb"
      }
    },
    {
      "cell_type": "markdown",
      "source": [
        "#**Q22->What does correlation measure in statistics?**\n",
        "#**Sol->**\n",
        "### **What Does Correlation Measure in Statistics?**  \n",
        "\n",
        "#### **1. Definition of Correlation**  \n",
        "Correlation measures the **strength** and **direction** of the relationship between two variables. It tells us how **closely** two variables move together but does not imply causation.  \n",
        "\n",
        "---\n",
        "\n",
        "#### **2. Correlation Coefficient (r)**  \n",
        "The most common measure is **Pearson’s correlation coefficient (r)**, which ranges from **-1 to +1**:  \n",
        "\n",
        "\\[\n",
        "r = \\frac{\\sum (X_i - \\bar{X})(Y_i - \\bar{Y})}{\\sqrt{\\sum (X_i - \\bar{X})^2} \\times \\sqrt{\\sum (Y_i - \\bar{Y})^2}}\n",
        "\\]\n",
        "\n",
        "Where:  \n",
        "- \\( X_i, Y_i \\) = Data points of variables **X** and **Y**  \n",
        "- \\( \\bar{X}, \\bar{Y} \\) = Means of **X** and **Y**  \n",
        "\n",
        "---\n",
        "\n",
        "#### **3. Types of Correlation**  \n",
        "\n",
        "1. **Positive Correlation (\\(r > 0\\))**  \n",
        "   - Both variables increase together.  \n",
        "   - Example: **Height & weight** (taller people tend to weigh more).  \n",
        "\n",
        "2. **Negative Correlation (\\(r < 0\\))**  \n",
        "   - One variable increases while the other decreases.  \n",
        "   - Example: **Price & demand** (higher prices reduce demand).  \n",
        "\n",
        "3. **No Correlation (\\(r \\approx 0\\))**  \n",
        "   - No linear relationship between the variables.  \n",
        "   - Example: **Shoe size & intelligence** (no connection).  \n",
        "\n",
        "---\n",
        "\n",
        "#### **4. Importance of Correlation**  \n",
        "\n",
        "- **Predictive Analysis** → Helps in forecasting trends (e.g., sales vs. advertising).  \n",
        "- **Finance & Investing** → Used in **portfolio diversification** to reduce risk.  \n",
        "- **Medical & Social Sciences** → Identifies relationships between health conditions, behaviors, etc.  \n",
        "- **Machine Learning & Data Science** → Determines which features impact predictions.  \n",
        "\n",
        "---\n",
        "\n",
        "#### **5. Limitations of Correlation**  \n",
        "\n",
        "- **Does NOT imply causation** → Just because two variables are correlated doesn’t mean one **causes** the other.  \n",
        "- **Sensitive to Outliers** → A few extreme values can distort the correlation.  \n",
        "- **Only Measures Linear Relationships** → May not detect complex patterns.  \n"
      ],
      "metadata": {
        "id": "13N65OhHakQ0"
      }
    },
    {
      "cell_type": "markdown",
      "source": [
        "#**Q23->What is the difference between covariance and correlation?**\n",
        "#**Sol->**\n",
        "### **Difference Between Covariance and Correlation**  \n",
        "\n",
        "| **Feature**      | **Covariance** | **Correlation** |\n",
        "|-----------------|--------------|--------------|\n",
        "| **Definition**  | Measures the **direction** of the relationship between two variables. | Measures the **strength** and **direction** of the relationship between two variables. |\n",
        "| **Formula** (Sample) | \\( \\text{Cov}(X, Y) = \\frac{\\sum (X_i - \\bar{X})(Y_i - \\bar{Y})}{n-1} \\) | \\( r = \\frac{\\text{Cov}(X, Y)}{s_X s_Y} \\) |\n",
        "| **Range** | Can take **any value** (positive, negative, or zero). | Always between **-1 and 1**. |\n",
        "| **Unit of Measurement** | Depends on the units of the variables (e.g., cm², kg·m, etc.). | Unitless (makes comparison easier). |\n",
        "| **Interpretation** | Only shows if two variables move together (positive/negative relationship). | Shows **both strength & direction** of the relationship. |\n",
        "| **Effect of Scale** | Affected by changes in scale (e.g., converting cm to meters changes covariance). | Not affected by scale changes (remains the same in different units). |\n",
        "| **Use Cases** | Used in **risk analysis, portfolio management**, and regression models. | Used in **statistical modeling, machine learning, finance, and social sciences**. |\n",
        "\n"
      ],
      "metadata": {
        "id": "kQTt1-7AazKl"
      }
    },
    {
      "cell_type": "markdown",
      "source": [
        "#**Q24->What are some real-world applications of statistics?**\n",
        "#**Sol->**\n",
        "### **Real-World Applications of Statistics**  \n",
        "\n",
        "Statistics is used in various fields to analyze data, make predictions, and support decision-making. Here are some key applications:  \n",
        "\n",
        "---\n",
        "\n",
        "### **1. Business & Economics**  \n",
        " **Market Analysis & Sales Forecasting**  \n",
        "- Businesses analyze consumer trends, demand, and competition to make strategic decisions.  \n",
        "- Example: Predicting **future sales** based on past performance.  \n",
        "\n",
        " **Risk Management & Investment**  \n",
        "- Investors use statistics to assess **market trends**, risks, and portfolio diversification.  \n",
        "- Example: **Stock price analysis** and **credit scoring** in banking.  \n",
        "\n",
        "---\n",
        "\n",
        "### **2. Healthcare & Medicine**  \n",
        " **Medical Research & Clinical Trials**  \n",
        "- Statistics helps test new drugs, analyze patient outcomes, and measure treatment effectiveness.  \n",
        "- Example: **Vaccine efficacy** studies.  \n",
        "\n",
        " **Epidemiology & Public Health**  \n",
        "- Used to track disease outbreaks, mortality rates, and healthcare improvements.  \n",
        "- Example: **COVID-19 spread prediction** and **hospital resource allocation**.  \n",
        "\n",
        "---\n",
        "\n",
        "### **3. Engineering & Manufacturing**  \n",
        " **Quality Control & Process Improvement**  \n",
        "- Ensures product consistency and efficiency in industries like automotive and electronics.  \n",
        "- Example: **Six Sigma methodology** for reducing defects.  \n",
        "\n",
        " **Reliability Testing**  \n",
        "- Evaluates product lifespan and failure rates.  \n",
        "- Example: **Testing the durability of smartphones** before launch.  \n",
        "\n",
        "---\n",
        "\n",
        "### **4. Social Sciences & Psychology**  \n",
        " **Behavioral Analysis & Surveys**  \n",
        "- Researchers use statistics to study human behavior, opinions, and trends.  \n",
        "- Example: **Political polling** and **customer satisfaction surveys**.  \n",
        "\n",
        " **Demographics & Population Studies**  \n",
        "- Helps governments in planning education, infrastructure, and social policies.  \n",
        "- Example: **Census data analysis** for policy-making.  \n",
        "\n",
        "---\n",
        "\n",
        "### **5. Sports & Gaming**  \n",
        " **Performance Analysis & Sports Betting**  \n",
        "- Teams use statistics to evaluate player performance and strategize.  \n",
        "- Example: **Moneyball strategy** in baseball.  \n",
        "\n",
        " **Game Development & AI**  \n",
        "- Used in video games for AI decision-making and difficulty adjustments.  \n",
        "- Example: **Adaptive difficulty in games** based on player behavior.  \n",
        "\n",
        "---\n",
        "\n",
        "### **6. Technology & Data Science**  \n",
        " **Machine Learning & AI**  \n",
        "- Statistics is fundamental in AI algorithms and predictive modeling.  \n",
        "- Example: **Recommendation systems (Netflix, Spotify)**.  \n",
        "\n",
        " **Big Data & Analytics**  \n",
        "- Companies process large datasets to find patterns and trends.  \n",
        "- Example: **Fraud detection in banking**.  \n",
        "\n",
        "---\n",
        "\n",
        "### **7. Environmental Science & Weather Forecasting**  \n",
        " **Climate Change Studies**  \n",
        "- Helps in modeling **global temperature trends** and predicting environmental changes.  \n",
        "- Example: **CO2 emissions analysis**.  \n",
        "\n",
        " **Weather Forecasting**  \n",
        "- Uses historical data to predict temperature, rainfall, and storms.  \n",
        "- Example: **Hurricane tracking models**.  \n"
      ],
      "metadata": {
        "id": "lCWy_7EabBK9"
      }
    },
    {
      "cell_type": "markdown",
      "source": [
        "#**PRACTICAL QUESTIONS ->**"
      ],
      "metadata": {
        "id": "1wV3OIaBbZ2i"
      }
    },
    {
      "cell_type": "code",
      "source": [
        "#Q1->5 How do you calculate the mean, median, and mode of a dataset?\n",
        "#Sol->\n",
        "import statistics\n",
        "\n",
        "# Example dataset\n",
        "data = [4, 8, 6, 10, 12, 8, 8]\n",
        "\n",
        "# Calculate Mean\n",
        "mean_value = statistics.mean(data)\n",
        "\n",
        "# Calculate Median\n",
        "median_value = statistics.median(data)\n",
        "\n",
        "# Calculate Mode\n",
        "mode_value = statistics.mode(data)\n",
        "\n",
        "# Print results\n",
        "print(f\"Mean: {mean_value}\")\n",
        "print(f\"Median: {median_value}\")\n",
        "print(f\"Mode: {mode_value}\")\n"
      ],
      "metadata": {
        "colab": {
          "base_uri": "https://localhost:8080/"
        },
        "id": "K5ZDeat4bdyT",
        "outputId": "8536a38e-413f-462f-abf6-6257112d9067"
      },
      "execution_count": 1,
      "outputs": [
        {
          "output_type": "stream",
          "name": "stdout",
          "text": [
            "Mean: 8\n",
            "Median: 8\n",
            "Mode: 8\n"
          ]
        }
      ]
    },
    {
      "cell_type": "code",
      "source": [
        "# Q2->Write a Python program to compute the variance and standard deviation of a dataset?\n",
        "# Sol->\n",
        "import statistics\n",
        "\n",
        "# Example dataset\n",
        "data = [10, 12, 23, 23, 16, 23, 21, 16]\n",
        "\n",
        "# Compute Variance\n",
        "sample_variance = statistics.variance(data)  # Sample variance\n",
        "population_variance = statistics.pvariance(data)  # Population variance\n",
        "\n",
        "# Compute Standard Deviation\n",
        "sample_std_dev = statistics.stdev(data)  # Sample standard deviation\n",
        "population_std_dev = statistics.pstdev(data)  # Population standard deviation\n",
        "\n",
        "# Print Results\n",
        "print(f\"Sample Variance: {sample_variance}\")\n",
        "print(f\"Population Variance: {population_variance}\")\n",
        "print(f\"Sample Standard Deviation: {sample_std_dev}\")\n",
        "print(f\"Population Standard Deviation: {population_std_dev}\")\n"
      ],
      "metadata": {
        "colab": {
          "base_uri": "https://localhost:8080/"
        },
        "id": "H-RFgXkJb0WQ",
        "outputId": "f3dcfb36-8046-45a2-a171-2d76e901adbf"
      },
      "execution_count": 2,
      "outputs": [
        {
          "output_type": "stream",
          "name": "stdout",
          "text": [
            "Sample Variance: 27.428571428571427\n",
            "Population Variance: 24\n",
            "Sample Standard Deviation: 5.237229365663818\n",
            "Population Standard Deviation: 4.898979485566356\n"
          ]
        }
      ]
    },
    {
      "cell_type": "code",
      "source": [
        "# Q3->Create a dataset and classify it into nominal, ordinal, interval, and ratio types.\n",
        "# Sol->\n",
        "import pandas as pd\n",
        "\n",
        "# Creating a dataset with different types of data\n",
        "data = {\n",
        "    \"Student Names\": [\"Alice\", \"Bob\", \"Charlie\", \"David\"],\n",
        "    \"Grades\": [\"A\", \"B\", \"C\", \"A\"],  # Ordinal\n",
        "    \"Temperature (°C)\": [15, 20, 25, 30],  # Interval\n",
        "    \"Height (cm)\": [150, 160, 170, 180],  # Ratio\n",
        "    \"Monthly Income ($)\": [1000, 2000, 3000, 4000]  # Ratio\n",
        "}\n",
        "\n",
        "# Creating DataFrame\n",
        "df = pd.DataFrame(data)\n",
        "\n",
        "# Defining classifications\n",
        "classification = {\n",
        "    \"Student Names\": \"Nominal\",\n",
        "    \"Grades\": \"Ordinal\",\n",
        "    \"Temperature (°C)\": \"Interval\",\n",
        "    \"Height (cm)\": \"Ratio\",\n",
        "    \"Monthly Income ($)\": \"Ratio\"\n",
        "}\n",
        "\n",
        "# Printing the dataset\n",
        "print(\"Dataset:\\n\", df)\n",
        "\n",
        "# Printing the classification\n",
        "print(\"\\nClassification:\")\n",
        "for key, value in classification.items():\n",
        "    print(f\"{key}: {value}\")\n"
      ],
      "metadata": {
        "colab": {
          "base_uri": "https://localhost:8080/"
        },
        "id": "F8pG_5vEcDOi",
        "outputId": "253e6e5a-df5e-44eb-9014-9eededee9851"
      },
      "execution_count": 3,
      "outputs": [
        {
          "output_type": "stream",
          "name": "stdout",
          "text": [
            "Dataset:\n",
            "   Student Names Grades  Temperature (°C)  Height (cm)  Monthly Income ($)\n",
            "0         Alice      A                15          150                1000\n",
            "1           Bob      B                20          160                2000\n",
            "2       Charlie      C                25          170                3000\n",
            "3         David      A                30          180                4000\n",
            "\n",
            "Classification:\n",
            "Student Names: Nominal\n",
            "Grades: Ordinal\n",
            "Temperature (°C): Interval\n",
            "Height (cm): Ratio\n",
            "Monthly Income ($): Ratio\n"
          ]
        }
      ]
    },
    {
      "cell_type": "code",
      "source": [
        "# Q4-> Implement sampling techniques like random sampling and stratified sampling.\n",
        "# Sol->\n",
        "import pandas as pd\n",
        "from sklearn.model_selection import train_test_split\n",
        "\n",
        "# Creating a sample dataset\n",
        "data = {\n",
        "    \"ID\": range(1, 21),  # Unique IDs from 1 to 20\n",
        "    \"Age\": [18, 22, 25, 30, 35, 40, 23, 27, 29, 31, 45, 50, 55, 60, 33, 37, 42, 47, 52, 57],\n",
        "    \"Gender\": [\"Male\", \"Female\", \"Male\", \"Female\", \"Male\"] * 4,  # Repeated pattern\n",
        "    \"Income\": [2000, 2500, 3000, 4000, 5000] * 4  # Repeated pattern\n",
        "}\n",
        "\n",
        "# Convert to DataFrame\n",
        "df = pd.DataFrame(data)\n",
        "\n",
        "# -------------------------------\n",
        "# 1. Random Sampling (Simple Random Sample)\n",
        "# -------------------------------\n",
        "random_sample = df.sample(n=5, random_state=42)  # Selects 5 random samples\n",
        "print(\"Random Sampling:\\n\", random_sample)\n",
        "\n",
        "# -------------------------------\n",
        "# 2. Stratified Sampling (Based on Gender)\n",
        "# -------------------------------\n",
        "# Stratify by the 'Gender' column\n",
        "train, stratified_sample = train_test_split(df, test_size=0.25, stratify=df['Gender'], random_state=42)\n",
        "\n",
        "print(\"\\nStratified Sampling:\\n\", stratified_sample)\n"
      ],
      "metadata": {
        "colab": {
          "base_uri": "https://localhost:8080/"
        },
        "id": "Huz_QIXPcdVn",
        "outputId": "f8815d25-66ef-45d8-c3db-8c3e75dccff4"
      },
      "execution_count": 4,
      "outputs": [
        {
          "output_type": "stream",
          "name": "stdout",
          "text": [
            "Random Sampling:\n",
            "     ID  Age  Gender  Income\n",
            "0    1   18    Male    2000\n",
            "17  18   47    Male    3000\n",
            "15  16   37    Male    2000\n",
            "1    2   22  Female    2500\n",
            "8    9   29  Female    4000\n",
            "\n",
            "Stratified Sampling:\n",
            "     ID  Age  Gender  Income\n",
            "8    9   29  Female    4000\n",
            "16  17   42  Female    2500\n",
            "15  16   37    Male    2000\n",
            "10  11   45    Male    2000\n",
            "4    5   35    Male    5000\n"
          ]
        }
      ]
    },
    {
      "cell_type": "code",
      "source": [
        "#Q5->Write a Python function to calculate the range of a dataset.\n",
        "# Sol->\n",
        "def calculate_range(data):\n",
        "    \"\"\"\n",
        "    Function to calculate the range of a dataset.\n",
        "\n",
        "    :param data: List of numerical values\n",
        "    :return: Range (max - min)\n",
        "    \"\"\"\n",
        "    if not data:  # Check if the list is empty\n",
        "        return None\n",
        "\n",
        "    return max(data) - min(data)\n",
        "\n",
        "# Example dataset\n",
        "dataset = [10, 20, 30, 40, 50, 60, 70]\n",
        "\n",
        "# Compute Range\n",
        "range_value = calculate_range(dataset)\n",
        "\n",
        "# Print result\n",
        "print(f\"Range of dataset: {range_value}\")\n"
      ],
      "metadata": {
        "colab": {
          "base_uri": "https://localhost:8080/"
        },
        "id": "Fvi8sPrrcy0k",
        "outputId": "2c23bc51-bd4c-4d70-e368-7c543a6c7ed2"
      },
      "execution_count": 5,
      "outputs": [
        {
          "output_type": "stream",
          "name": "stdout",
          "text": [
            "Range of dataset: 60\n"
          ]
        }
      ]
    },
    {
      "cell_type": "code",
      "source": [
        "# Q6->Create a dataset and plot its histogram to visualize skewness.\n",
        "# Sol->\n",
        "import numpy as np\n",
        "import matplotlib.pyplot as plt\n",
        "import seaborn as sns\n",
        "from scipy.stats import skew\n",
        "\n",
        "# Generate a dataset with positive skew (right-skewed)\n",
        "data = np.random.exponential(scale=2, size=1000)  # Exponential distribution (right-skewed)\n",
        "\n",
        "# Calculate skewness value\n",
        "skewness_value = skew(data)\n",
        "\n",
        "# Plot Histogram\n",
        "plt.figure(figsize=(8, 5))\n",
        "sns.histplot(data, bins=30, kde=True, color='blue', alpha=0.7)\n",
        "\n",
        "# Add title and labels\n",
        "plt.title(f\"Histogram of Dataset (Skewness: {skewness_value:.2f})\")\n",
        "plt.xlabel(\"Value\")\n",
        "plt.ylabel(\"Frequency\")\n",
        "\n",
        "# Show the plot\n",
        "plt.show()\n"
      ],
      "metadata": {
        "colab": {
          "base_uri": "https://localhost:8080/",
          "height": 487
        },
        "id": "SaL_vhwbdElC",
        "outputId": "e1023845-44a7-4a24-c28b-a182b876abdb"
      },
      "execution_count": 6,
      "outputs": [
        {
          "output_type": "display_data",
          "data": {
            "text/plain": [
              "<Figure size 800x500 with 1 Axes>"
            ],
            "image/png": "[encoded data removed]"
          },
          "metadata": {}
        }
      ]
    },
    {
      "cell_type": "code",
      "source": [
        "# Q7->5 Calculate skewness and kurtosis of a dataset using Python libraries?\n",
        "# Sol->\n",
        "import numpy as np\n",
        "import scipy.stats as stats\n",
        "\n",
        "# Generate a dataset (Right-Skewed Distribution)\n",
        "data = np.random.exponential(scale=2, size=1000)  # Exponential distribution (positively skewed)\n",
        "\n",
        "# Calculate Skewness\n",
        "skewness_value = stats.skew(data)\n",
        "\n",
        "# Calculate Kurtosis\n",
        "kurtosis_value = stats.kurtosis(data, fisher=True)  # Fisher=True returns excess kurtosis\n",
        "\n",
        "# Print Results\n",
        "print(f\"Skewness: {skewness_value:.4f}\")\n",
        "print(f\"Kurtosis: {kurtosis_value:.4f}\")  # If using Fisher=True, normal distribution has kurtosis ≈ 0\n"
      ],
      "metadata": {
        "colab": {
          "base_uri": "https://localhost:8080/"
        },
        "id": "me8EznvsdP5Q",
        "outputId": "3bf50852-9d4e-4c0f-a8a4-1b841cc5ebea"
      },
      "execution_count": 7,
      "outputs": [
        {
          "output_type": "stream",
          "name": "stdout",
          "text": [
            "Skewness: 2.1652\n",
            "Kurtosis: 7.5412\n"
          ]
        }
      ]
    },
    {
      "cell_type": "code",
      "source": [
        "# Q8->Generate a dataset and demonstrate positive and negative skewness.\n",
        "# Sol->\n",
        "import numpy as np\n",
        "import matplotlib.pyplot as plt\n",
        "import seaborn as sns\n",
        "from scipy.stats import skew\n",
        "\n",
        "# Generate datasets\n",
        "np.random.seed(42)  # For reproducibility\n",
        "\n",
        "# 1. Positive Skew (Right-Skewed) - Exponential Distribution\n",
        "data_pos_skew = np.random.exponential(scale=2, size=1000)\n",
        "\n",
        "# 2. Negative Skew (Left-Skewed) - Negated Chi-Square Distribution\n",
        "data_neg_skew = -np.random.chisquare(df=4, size=1000)\n",
        "\n",
        "# Calculate skewness\n",
        "skew_pos = skew(data_pos_skew)\n",
        "skew_neg = skew(data_neg_skew)\n",
        "\n",
        "# Plot histograms\n",
        "fig, axes = plt.subplots(1, 2, figsize=(12, 5))\n",
        "\n",
        "# Positive Skew Histogram\n",
        "sns.histplot(data_pos_skew, bins=30, kde=True, color=\"blue\", ax=axes[0])\n",
        "axes[0].set_title(f\"Positive Skew (Right-Skewed) \\nSkewness: {skew_pos:.2f}\")\n",
        "axes[0].set_xlabel(\"Value\")\n",
        "axes[0].set_ylabel(\"Frequency\")\n",
        "\n",
        "# Negative Skew Histogram\n",
        "sns.histplot(data_neg_skew, bins=30, kde=True, color=\"red\", ax=axes[1])\n",
        "axes[1].set_title(f\"Negative Skew (Left-Skewed) \\nSkewness: {skew_neg:.2f}\")\n",
        "axes[1].set_xlabel(\"Value\")\n",
        "axes[1].set_ylabel(\"Frequency\")\n",
        "\n",
        "# Show plot\n",
        "plt.tight_layout()\n",
        "plt.show()\n"
      ],
      "metadata": {
        "colab": {
          "base_uri": "https://localhost:8080/",
          "height": 506
        },
        "id": "jjIiWZCpddjZ",
        "outputId": "726b202a-cff7-40c9-c0ce-e4bd5ff087d5"
      },
      "execution_count": 8,
      "outputs": [
        {
          "output_type": "display_data",
          "data": {
            "text/plain": [
              "<Figure size 1200x500 with 2 Axes>"
            ],
            "image/png": "[encoded data removed]"
          },
          "metadata": {}
        }
      ]
    },
    {
      "cell_type": "code",
      "source": [
        "# Q9->Write a Python script to calculate covariance between two datasets?\n",
        "# Sol->\n",
        "import numpy as np\n",
        "import pandas as pd\n",
        "\n",
        "# Generate two datasets\n",
        "np.random.seed(42)  # For reproducibility\n",
        "X = np.random.randint(10, 50, 10)  # Random integers from 10 to 50\n",
        "Y = np.random.randint(20, 60, 10)  # Random integers from 20 to 60\n",
        "\n",
        "# 1. Manual Covariance Calculation\n",
        "mean_X = np.mean(X)\n",
        "mean_Y = np.mean(Y)\n",
        "\n",
        "covariance = np.sum((X - mean_X) * (Y - mean_Y)) / (len(X) - 1)\n",
        "\n",
        "# 2. Using NumPy\n",
        "cov_matrix = np.cov(X, Y, bias=False)  # Covariance matrix\n",
        "cov_numpy = cov_matrix[0, 1]  # Extract covariance value\n",
        "\n",
        "# 3. Using Pandas\n",
        "df = pd.DataFrame({\"X\": X, \"Y\": Y})\n",
        "cov_pandas = df.cov().iloc[0, 1]\n",
        "\n",
        "# Print results\n",
        "print(f\"Manual Covariance: {covariance:.4f}\")\n",
        "print(f\"NumPy Covariance: {cov_numpy:.4f}\")\n",
        "print(f\"Pandas Covariance: {cov_pandas:.4f}\")\n"
      ],
      "metadata": {
        "colab": {
          "base_uri": "https://localhost:8080/"
        },
        "id": "VVAwtFAddrj3",
        "outputId": "c73fe082-bc00-4bda-f26c-38544d69ff41"
      },
      "execution_count": 9,
      "outputs": [
        {
          "output_type": "stream",
          "name": "stdout",
          "text": [
            "Manual Covariance: -21.5000\n",
            "NumPy Covariance: -21.5000\n",
            "Pandas Covariance: -21.5000\n"
          ]
        }
      ]
    },
    {
      "cell_type": "code",
      "source": [
        "# Q10->Write a Python script to calculate the correlation coefficient between two datasets.\n",
        "# Sol->\n",
        "import numpy as np\n",
        "import pandas as pd\n",
        "\n",
        "# Generate two datasets\n",
        "np.random.seed(42)  # For reproducibility\n",
        "X = np.random.randint(10, 50, 10)  # Random integers from 10 to 50\n",
        "Y = np.random.randint(20, 60, 10)  # Random integers from 20 to 60\n",
        "\n",
        "# 1. Manual Pearson Correlation Calculation\n",
        "mean_X = np.mean(X)\n",
        "mean_Y = np.mean(Y)\n",
        "\n",
        "numerator = np.sum((X - mean_X) * (Y - mean_Y))\n",
        "denominator = np.sqrt(np.sum((X - mean_X)**2) * np.sum((Y - mean_Y)**2))\n",
        "correlation_manual = numerator / denominator\n",
        "\n",
        "# 2. Using NumPy\n",
        "correlation_numpy = np.corrcoef(X, Y)[0, 1]\n",
        "\n",
        "# 3. Using Pandas\n",
        "df = pd.DataFrame({\"X\": X, \"Y\": Y})\n",
        "correlation_pandas = df.corr().iloc[0, 1]\n",
        "\n",
        "# Print results\n",
        "print(f\"Manual Correlation: {correlation_manual:.4f}\")\n",
        "print(f\"NumPy Correlation: {correlation_numpy:.4f}\")\n",
        "print(f\"Pandas Correlation: {correlation_pandas:.4f}\")\n"
      ],
      "metadata": {
        "colab": {
          "base_uri": "https://localhost:8080/"
        },
        "id": "GYJkiBY4eBeM",
        "outputId": "dac74869-6771-43cd-e4b7-437cc0434f98"
      },
      "execution_count": 10,
      "outputs": [
        {
          "output_type": "stream",
          "name": "stdout",
          "text": [
            "Manual Correlation: -0.1462\n",
            "NumPy Correlation: -0.1462\n",
            "Pandas Correlation: -0.1462\n"
          ]
        }
      ]
    },
    {
      "cell_type": "code",
      "source": [
        "# Q11->5 Create a scatter plot to visualize the relationship between two variables.\n",
        "# sol->\n",
        "import numpy as np\n",
        "import matplotlib.pyplot as plt\n",
        "import seaborn as sns\n",
        "\n",
        "# Generate two datasets (X and Y) with some correlation\n",
        "np.random.seed(42)\n",
        "X = np.random.randint(10, 50, 30)  # Random integers from 10 to 50\n",
        "Y = X * 1.5 + np.random.normal(0, 10, 30)  # Linear relationship with noise\n",
        "\n",
        "# Create scatter plot\n",
        "plt.figure(figsize=(8, 5))\n",
        "sns.scatterplot(x=X, y=Y, color=\"blue\", s=60, edgecolor=\"black\")\n",
        "\n",
        "# Add labels and title\n",
        "plt.xlabel(\"Variable X\")\n",
        "plt.ylabel(\"Variable Y\")\n",
        "plt.title(\"Scatter Plot of X vs. Y\")\n",
        "\n",
        "# Show the plot\n",
        "plt.show()\n",
        "\n"
      ],
      "metadata": {
        "colab": {
          "base_uri": "https://localhost:8080/",
          "height": 487
        },
        "id": "nzgzg0ZMeOIK",
        "outputId": "05b03bd4-d816-46f1-dd56-c6ddea14d079"
      },
      "execution_count": 11,
      "outputs": [
        {
          "output_type": "display_data",
          "data": {
            "text/plain": [
              "<Figure size 800x500 with 1 Axes>"
            ],
            "image/png": "[encoded data removed]"
          },
          "metadata": {}
        }
      ]
    },
    {
      "cell_type": "code",
      "source": [
        "# Q12-> Implement and compare simple random sampling and systematic sampling.\n",
        "# Sol->\n",
        "import numpy as np\n",
        "import pandas as pd\n",
        "\n",
        "# Generate a dataset (Population)\n",
        "np.random.seed(42)\n",
        "population_size = 100\n",
        "population = np.random.randint(1, 100, population_size)  # Random numbers from 1 to 100\n",
        "\n",
        "# Convert to DataFrame\n",
        "df = pd.DataFrame({\"ID\": range(1, population_size + 1), \"Value\": population})\n",
        "\n",
        "# Sample Size\n",
        "sample_size = 10\n",
        "\n",
        "# 1. Simple Random Sampling (SRS)\n",
        "srs_sample = df.sample(n=sample_size, random_state=42)\n",
        "\n",
        "# 2. Systematic Sampling\n",
        "k = population_size // sample_size  # Sampling interval\n",
        "systematic_sample = df.iloc[::k]  # Select every k-th element\n",
        "\n",
        "# Print results\n",
        "print(\"Simple Random Sampling (SRS) Sample:\")\n",
        "print(srs_sample)\n",
        "\n",
        "print(\"\\nSystematic Sampling Sample:\")\n",
        "print(systematic_sample)\n"
      ],
      "metadata": {
        "colab": {
          "base_uri": "https://localhost:8080/"
        },
        "id": "7YngvkpLeasv",
        "outputId": "1281ea76-dd7b-4c5d-a983-2e08d72e32c4"
      },
      "execution_count": 12,
      "outputs": [
        {
          "output_type": "stream",
          "name": "stdout",
          "text": [
            "Simple Random Sampling (SRS) Sample:\n",
            "    ID  Value\n",
            "83  84     62\n",
            "53  54     14\n",
            "70  71      4\n",
            "45  46      7\n",
            "44  45     51\n",
            "39  40     62\n",
            "22  23     21\n",
            "80  81     44\n",
            "10  11     88\n",
            "0    1     52\n",
            "\n",
            "Systematic Sampling Sample:\n",
            "    ID  Value\n",
            "0    1     52\n",
            "10  11     88\n",
            "20  21     64\n",
            "30  31     59\n",
            "40  41     51\n",
            "50  51      4\n",
            "60  61     60\n",
            "70  71      4\n",
            "80  81     44\n",
            "90  91     87\n"
          ]
        }
      ]
    },
    {
      "cell_type": "code",
      "source": [
        "# Q13-> Calculate the mean, median, and mode of grouped data.\n",
        "# Sol->\n",
        "import numpy as np\n",
        "import pandas as pd\n",
        "from scipy import stats\n",
        "\n",
        "# Define the class intervals and their corresponding frequencies\n",
        "class_intervals = [(0, 10), (10, 20), (20, 30), (30, 40), (40, 50)]\n",
        "frequencies = [5, 8, 15, 10, 7]  # Frequency for each class\n",
        "\n",
        "# Calculate the midpoints of the class intervals\n",
        "midpoints = [(ci[0] + ci[1]) / 2 for ci in class_intervals]\n",
        "\n",
        "# Calculate Mean\n",
        "mean = np.sum(np.array(midpoints) * np.array(frequencies)) / np.sum(frequencies)\n",
        "\n",
        "# Calculate Cumulative Frequency\n",
        "cumulative_freq = np.cumsum(frequencies)\n",
        "total_freq = np.sum(frequencies)\n",
        "\n",
        "# Find Median Class\n",
        "median_class_index = np.where(cumulative_freq >= total_freq / 2)[0][0]\n",
        "L = class_intervals[median_class_index][0]  # Lower boundary\n",
        "CF = cumulative_freq[median_class_index - 1] if median_class_index > 0 else 0\n",
        "f = frequencies[median_class_index]\n",
        "h = class_intervals[median_class_index][1] - class_intervals[median_class_index][0]\n",
        "\n",
        "# Calculate Median\n",
        "median = L + ((total_freq / 2 - CF) / f) * h\n",
        "\n",
        "# Find Mode Class\n",
        "modal_class_index = np.argmax(frequencies)  # Class with highest frequency\n",
        "L_mode = class_intervals[modal_class_index][0]\n",
        "f1 = frequencies[modal_class_index]\n",
        "f0 = frequencies[modal_class_index - 1] if modal_class_index > 0 else 0\n",
        "f2 = frequencies[modal_class_index + 1] if modal_class_index < len(frequencies) - 1 else 0\n",
        "\n",
        "# Calculate Mode\n",
        "mode = L_mode + ((f1 - f0) / ((2 * f1) - f0 - f2)) * h\n",
        "\n",
        "# Print Results\n",
        "print(f\"Mean: {mean:.2f}\")\n",
        "print(f\"Median: {median:.2f}\")\n",
        "print(f\"Mode: {mode:.2f}\")\n"
      ],
      "metadata": {
        "colab": {
          "base_uri": "https://localhost:8080/"
        },
        "id": "vKUu7LIjexYb",
        "outputId": "ebc1b426-9463-4075-a288-33bd21893b8e"
      },
      "execution_count": 13,
      "outputs": [
        {
          "output_type": "stream",
          "name": "stdout",
          "text": [
            "Mean: 26.33\n",
            "Median: 26.33\n",
            "Mode: 25.83\n"
          ]
        }
      ]
    },
    {
      "cell_type": "code",
      "source": [
        "# Q14->Simulate data using Python and calculate its central tendency and dispersion.\n",
        "# Sol->\n",
        "import numpy as np\n",
        "import pandas as pd\n",
        "import scipy.stats as stats\n",
        "\n",
        "# Simulate a dataset (100 random numbers with normal distribution)\n",
        "np.random.seed(42)\n",
        "data = np.random.normal(loc=50, scale=15, size=100)  # Mean=50, StdDev=15\n",
        "\n",
        "# Convert data into Pandas Series\n",
        "df = pd.Series(data)\n",
        "\n",
        "# Central Tendency Measures\n",
        "mean_value = np.mean(df)\n",
        "median_value = np.median(df)\n",
        "mode_value = stats.mode(df, keepdims=True)[0][0]  # Extract mode value\n",
        "\n",
        "# Dispersion Measures\n",
        "variance_value = np.var(df, ddof=1)  # Sample variance (ddof=1)\n",
        "std_dev_value = np.std(df, ddof=1)  # Sample standard deviation\n",
        "range_value = np.max(df) - np.min(df)  # Range\n",
        "iqr_value = stats.iqr(df)  # Interquartile Range (IQR)\n",
        "\n",
        "# Print Results\n",
        "print(f\"Mean: {mean_value:.2f}\")\n",
        "print(f\"Median: {median_value:.2f}\")\n",
        "print(f\"Mode: {mode_value:.2f}\")\n",
        "print(f\"Variance: {variance_value:.2f}\")\n",
        "print(f\"Standard Deviation: {std_dev_value:.2f}\")\n",
        "print(f\"Range: {range_value:.2f}\")\n",
        "print(f\"Interquartile Range (IQR): {iqr_value:.2f}\")\n"
      ],
      "metadata": {
        "colab": {
          "base_uri": "https://localhost:8080/"
        },
        "id": "L1gvnb5yfH-1",
        "outputId": "3b454719-0f60-4afc-eb58-9168bdb53c05"
      },
      "execution_count": 15,
      "outputs": [
        {
          "output_type": "stream",
          "name": "stdout",
          "text": [
            "Mean: 48.44\n",
            "Median: 48.10\n",
            "Mode: 10.70\n",
            "Variance: 185.57\n",
            "Standard Deviation: 13.62\n",
            "Range: 67.08\n",
            "Interquartile Range (IQR): 15.10\n"
          ]
        }
      ]
    },
    {
      "cell_type": "code",
      "source": [
        "# Q15->Use NumPy or pandas to summarize a dataset’s descriptive statistics.\n",
        "# Sol->\n",
        "import numpy as np\n",
        "import pandas as pd\n",
        "\n",
        "# Simulate a dataset with 100 random values (normally distributed)\n",
        "np.random.seed(42)\n",
        "data = np.random.normal(loc=50, scale=15, size=100)  # Mean=50, StdDev=15\n",
        "\n",
        "# Convert to Pandas DataFrame\n",
        "df = pd.DataFrame({\"Values\": data})\n",
        "\n",
        "# Using Pandas describe() to get summary statistics\n",
        "summary = df.describe()\n",
        "\n",
        "# Print Descriptive Statistics\n",
        "print(summary)\n"
      ],
      "metadata": {
        "colab": {
          "base_uri": "https://localhost:8080/"
        },
        "id": "R6Zvg472fyC8",
        "outputId": "1088fc6b-7fc7-423d-80bb-cb7966bdd81c"
      },
      "execution_count": 16,
      "outputs": [
        {
          "output_type": "stream",
          "name": "stdout",
          "text": [
            "           Values\n",
            "count  100.000000\n",
            "mean    48.442302\n",
            "std     13.622526\n",
            "min     10.703823\n",
            "25%     40.986415\n",
            "50%     48.095656\n",
            "75%     56.089281\n",
            "max     77.784173\n"
          ]
        }
      ]
    },
    {
      "cell_type": "code",
      "source": [
        "# Q16-> Plot a boxplot to understand the spread and identify outliers.\n",
        "# Sol->\n",
        "import numpy as np\n",
        "import pandas as pd\n",
        "import matplotlib.pyplot as plt\n",
        "import seaborn as sns\n",
        "\n",
        "# Simulate a dataset with 100 random values (normally distributed)\n",
        "np.random.seed(42)\n",
        "data = np.random.normal(loc=50, scale=15, size=100)  # Mean=50, StdDev=15\n",
        "\n",
        "# Convert to Pandas DataFrame\n",
        "df = pd.DataFrame({\"Values\": data})\n",
        "\n",
        "# Plot Boxplot\n",
        "plt.figure(figsize=(8, 5))\n",
        "sns.boxplot(y=df[\"Values\"], color=\"skyblue\")\n",
        "\n",
        "# Customize plot\n",
        "plt.title(\"Boxplot of Values (Detecting Outliers)\", fontsize=14)\n",
        "plt.ylabel(\"Values\")\n",
        "plt.grid(True)\n",
        "\n",
        "# Show plot\n",
        "plt.show()\n"
      ],
      "metadata": {
        "colab": {
          "base_uri": "https://localhost:8080/",
          "height": 450
        },
        "id": "ok1fbK7wgAMn",
        "outputId": "00f9ac40-a871-40d5-b20b-5a676a61ef88"
      },
      "execution_count": 17,
      "outputs": [
        {
          "output_type": "display_data",
          "data": {
            "text/plain": [
              "<Figure size 800x500 with 1 Axes>"
            ],
            "image/png": "[encoded data removed]"
          },
          "metadata": {}
        }
      ]
    },
    {
      "cell_type": "code",
      "source": [
        "# Q17->Calculate the interquartile range (IQR) of a dataset.\n",
        "# Sol->\n",
        "import numpy as np\n",
        "import pandas as pd\n",
        "import scipy.stats as stats\n",
        "\n",
        "# Simulate a dataset with 100 random values (normally distributed)\n",
        "np.random.seed(42)\n",
        "data = np.random.normal(loc=50, scale=15, size=100)  # Mean=50, StdDev=15\n",
        "\n",
        "# Convert to Pandas Series\n",
        "df = pd.Series(data)\n",
        "\n",
        "# Calculate Q1 (25th percentile) and Q3 (75th percentile)\n",
        "Q1 = np.percentile(df, 25)\n",
        "Q3 = np.percentile(df, 75)\n",
        "\n",
        "# Calculate IQR\n",
        "IQR = Q3 - Q1\n",
        "\n",
        "# Print Results\n",
        "print(f\"Q1 (25th percentile): {Q1:.2f}\")\n",
        "print(f\"Q3 (75th percentile): {Q3:.2f}\")\n",
        "print(f\"Interquartile Range (IQR): {IQR:.2f}\")\n"
      ],
      "metadata": {
        "colab": {
          "base_uri": "https://localhost:8080/"
        },
        "id": "mX1wXOgBgP2P",
        "outputId": "337dccaa-50a3-40a2-9e4c-bad280c18f5d"
      },
      "execution_count": 19,
      "outputs": [
        {
          "output_type": "stream",
          "name": "stdout",
          "text": [
            "Q1 (25th percentile): 40.99\n",
            "Q3 (75th percentile): 56.09\n",
            "Interquartile Range (IQR): 15.10\n"
          ]
        }
      ]
    },
    {
      "cell_type": "code",
      "source": [
        "# Q18->Implement Z-score normalization and explain its significance.\n",
        "# Sol->\n",
        "import numpy as np\n",
        "import pandas as pd\n",
        "import scipy.stats as stats\n",
        "\n",
        "# Simulate a dataset with 100 random values (normally distributed)\n",
        "np.random.seed(42)\n",
        "data = np.random.normal(loc=50, scale=15, size=100)  # Mean=50, StdDev=15\n",
        "\n",
        "# Convert data to Pandas DataFrame\n",
        "df = pd.DataFrame({\"Values\": data})\n",
        "\n",
        "# Calculate Z-score normalization\n",
        "df[\"Z-Score\"] = stats.zscore(df[\"Values\"])\n",
        "\n",
        "# Print first 10 rows\n",
        "print(df.head(10))\n"
      ],
      "metadata": {
        "colab": {
          "base_uri": "https://localhost:8080/"
        },
        "id": "uaPQkYZugc1d",
        "outputId": "1da273d9-1728-45a6-c73b-37364fef377c"
      },
      "execution_count": 20,
      "outputs": [
        {
          "output_type": "stream",
          "name": "stdout",
          "text": [
            "      Values   Z-Score\n",
            "0  57.450712  0.664619\n",
            "1  47.926035 -0.038089\n",
            "2  59.715328  0.831697\n",
            "3  72.845448  1.800406\n",
            "4  46.487699 -0.144206\n",
            "5  46.487946 -0.144188\n",
            "6  73.688192  1.862582\n",
            "7  61.511521  0.964216\n",
            "8  42.957884 -0.404627\n",
            "9  58.138401  0.715355\n"
          ]
        }
      ]
    },
    {
      "cell_type": "code",
      "source": [
        "# Q19->> Compare two datasets using their standard deviations.\n",
        "# Sol->\n",
        "import numpy as np\n",
        "import pandas as pd\n",
        "\n",
        "# Simulate two datasets with different distributions\n",
        "np.random.seed(42)\n",
        "data1 = np.random.normal(loc=50, scale=10, size=100)  # Mean=50, StdDev=10\n",
        "data2 = np.random.normal(loc=50, scale=20, size=100)  # Mean=50, StdDev=20\n",
        "\n",
        "# Convert to Pandas DataFrame\n",
        "df = pd.DataFrame({\"Dataset 1\": data1, \"Dataset 2\": data2})\n",
        "\n",
        "# Calculate standard deviations\n",
        "std_dev_1 = np.std(df[\"Dataset 1\"], ddof=1)  # Sample standard deviation\n",
        "std_dev_2 = np.std(df[\"Dataset 2\"], ddof=1)  # Sample standard deviation\n",
        "\n",
        "# Print results\n",
        "print(f\"Standard Deviation of Dataset 1: {std_dev_1:.2f}\")\n",
        "print(f\"Standard Deviation of Dataset 2: {std_dev_2:.2f}\")\n",
        "\n",
        "# Conclusion\n",
        "if std_dev_1 > std_dev_2:\n",
        "    print(\"Dataset 1 has more variability.\")\n",
        "elif std_dev_1 < std_dev_2:\n",
        "    print(\"Dataset 2 has more variability.\")\n",
        "else:\n",
        "    print(\"Both datasets have the same variability.\")\n"
      ],
      "metadata": {
        "colab": {
          "base_uri": "https://localhost:8080/"
        },
        "id": "D59-5b0Hg8Sg",
        "outputId": "00d01c58-ddeb-4463-e1c2-c2c11ad6f68b"
      },
      "execution_count": 21,
      "outputs": [
        {
          "output_type": "stream",
          "name": "stdout",
          "text": [
            "Standard Deviation of Dataset 1: 9.08\n",
            "Standard Deviation of Dataset 2: 19.07\n",
            "Dataset 2 has more variability.\n"
          ]
        }
      ]
    },
    {
      "cell_type": "code",
      "source": [
        "# Q20->Write a Python program to visualize covariance using a heatmap.\n",
        "# Sol->\n",
        "import numpy as np\n",
        "import pandas as pd\n",
        "import seaborn as sns\n",
        "import matplotlib.pyplot as plt\n",
        "\n",
        "# Simulate a dataset with two correlated variables\n",
        "np.random.seed(42)\n",
        "x = np.random.normal(50, 10, 100)  # Mean=50, StdDev=10\n",
        "y = x * 1.5 + np.random.normal(0, 5, 100)  # Linear relationship with noise\n",
        "\n",
        "# Convert to DataFrame\n",
        "df = pd.DataFrame({\"Variable X\": x, \"Variable Y\": y})\n",
        "\n",
        "# Compute Covariance Matrix\n",
        "cov_matrix = df.cov()\n",
        "\n",
        "# Plot Heatmap\n",
        "plt.figure(figsize=(6, 5))\n",
        "sns.heatmap(cov_matrix, annot=True, cmap=\"coolwarm\", fmt=\".2f\", linewidths=0.5)\n",
        "\n",
        "# Customize plot\n",
        "plt.title(\"Covariance Heatmap\", fontsize=14)\n",
        "plt.show()\n"
      ],
      "metadata": {
        "colab": {
          "base_uri": "https://localhost:8080/",
          "height": 469
        },
        "id": "mSigNrbphKtj",
        "outputId": "76ac906a-452b-4347-e6e0-88ffa9b0378d"
      },
      "execution_count": 22,
      "outputs": [
        {
          "output_type": "display_data",
          "data": {
            "text/plain": [
              "<Figure size 600x500 with 2 Axes>"
            ],
            "image/png": "[encoded data removed]"
          },
          "metadata": {}
        }
      ]
    },
    {
      "cell_type": "code",
      "source": [
        "# Q21->> Use seaborn to create a correlation matrix for a dataset.\n",
        "# Sol->\n",
        "import numpy as np\n",
        "import pandas as pd\n",
        "import seaborn as sns\n",
        "import matplotlib.pyplot as plt\n",
        "\n",
        "# Simulate a dataset with multiple variables\n",
        "np.random.seed(42)\n",
        "data = {\n",
        "    \"Feature A\": np.random.normal(50, 10, 100),\n",
        "    \"Feature B\": np.random.normal(30, 5, 100),\n",
        "    \"Feature C\": np.random.normal(70, 15, 100),\n",
        "    \"Feature D\": np.random.normal(90, 20, 100),\n",
        "}\n",
        "\n",
        "# Convert to DataFrame\n",
        "df = pd.DataFrame(data)\n",
        "\n",
        "# Compute Correlation Matrix\n",
        "corr_matrix = df.corr()\n",
        "\n",
        "# Plot Correlation Heatmap\n",
        "plt.figure(figsize=(7, 5))\n",
        "sns.heatmap(corr_matrix, annot=True, cmap=\"coolwarm\", fmt=\".2f\", linewidths=0.5)\n",
        "\n",
        "# Customize plot\n",
        "plt.title(\"Correlation Matrix Heatmap\", fontsize=14)\n",
        "plt.show()\n"
      ],
      "metadata": {
        "colab": {
          "base_uri": "https://localhost:8080/",
          "height": 469
        },
        "id": "1xnjEKE4hWVl",
        "outputId": "bd2a0d53-f137-4105-bc8b-2082fe694779"
      },
      "execution_count": 23,
      "outputs": [
        {
          "output_type": "display_data",
          "data": {
            "text/plain": [
              "<Figure size 700x500 with 2 Axes>"
            ],
            "image/png": "[encoded data removed]"
          },
          "metadata": {}
        }
      ]
    },
    {
      "cell_type": "code",
      "source": [
        "# Q22->> Generate a dataset and implement both variance and standard deviation computations.\n",
        "# Sol->\n",
        "import numpy as np\n",
        "import pandas as pd\n",
        "\n",
        "# Generate a dataset with 100 random values (normally distributed)\n",
        "np.random.seed(42)\n",
        "data = np.random.normal(loc=50, scale=15, size=100)  # Mean=50, StdDev=15\n",
        "\n",
        "# Convert to Pandas DataFrame\n",
        "df = pd.DataFrame({\"Values\": data})\n",
        "\n",
        "# Compute Variance & Standard Deviation\n",
        "variance = np.var(df[\"Values\"], ddof=1)  # Sample variance\n",
        "std_dev = np.std(df[\"Values\"], ddof=1)   # Sample standard deviation\n",
        "\n",
        "# Print results\n",
        "print(f\"Variance: {variance:.2f}\")\n",
        "print(f\"Standard Deviation: {std_dev:.2f}\")\n"
      ],
      "metadata": {
        "colab": {
          "base_uri": "https://localhost:8080/"
        },
        "id": "WN1scaVNhi9c",
        "outputId": "5fa93a12-288c-4891-8337-7c6f9c9e804b"
      },
      "execution_count": 24,
      "outputs": [
        {
          "output_type": "stream",
          "name": "stdout",
          "text": [
            "Variance: 185.57\n",
            "Standard Deviation: 13.62\n"
          ]
        }
      ]
    },
    {
      "cell_type": "code",
      "source": [
        "# Q23->Visualize skewness and kurtosis using Python libraries like matplotlib or seaborn.\n",
        "# Sol->\n",
        "import numpy as np\n",
        "import pandas as pd\n",
        "import seaborn as sns\n",
        "import matplotlib.pyplot as plt\n",
        "from scipy.stats import skew, kurtosis\n",
        "\n",
        "# Generate a dataset with skewness\n",
        "np.random.seed(42)\n",
        "data = np.random.gamma(shape=2, scale=2, size=1000)  # Positively skewed distribution\n",
        "\n",
        "# Convert to Pandas DataFrame\n",
        "df = pd.DataFrame({\"Values\": data})\n",
        "\n",
        "# Compute Skewness & Kurtosis\n",
        "skewness = skew(df[\"Values\"])\n",
        "kurt = kurtosis(df[\"Values\"])\n",
        "\n",
        "# Plot Histogram with KDE to visualize skewness\n",
        "plt.figure(figsize=(8, 5))\n",
        "sns.histplot(df[\"Values\"], kde=True, bins=30, color=\"skyblue\")\n",
        "\n",
        "# Add title & skewness annotation\n",
        "plt.title(f\"Histogram with KDE\\nSkewness: {skewness:.2f}, Kurtosis: {kurt:.2f}\", fontsize=14)\n",
        "plt.xlabel(\"Values\")\n",
        "plt.ylabel(\"Frequency\")\n",
        "plt.grid(True)\n",
        "\n",
        "# Show plot\n",
        "plt.show()\n"
      ],
      "metadata": {
        "colab": {
          "base_uri": "https://localhost:8080/",
          "height": 510
        },
        "id": "ktt1HuTWhuPb",
        "outputId": "ed04b259-5981-4b3b-8964-42da0ebbc22f"
      },
      "execution_count": 25,
      "outputs": [
        {
          "output_type": "display_data",
          "data": {
            "text/plain": [
              "<Figure size 800x500 with 1 Axes>"
            ],
            "image/png": "[encoded data removed]"
          },
          "metadata": {}
        }
      ]
    },
    {
      "cell_type": "code",
      "source": [
        "# Q24->> Implement the Pearson and Spearman correlation coefficients for a dataset.\n",
        "# Sol->\n",
        "import numpy as np\n",
        "import pandas as pd\n",
        "import scipy.stats as stats\n",
        "\n",
        "# Generate a dataset with correlated variables\n",
        "np.random.seed(42)\n",
        "x = np.random.normal(50, 10, 100)  # Normally distributed variable\n",
        "y = x * 1.5 + np.random.normal(0, 5, 100)  # Linear relationship with noise\n",
        "\n",
        "# Convert to DataFrame\n",
        "df = pd.DataFrame({\"Variable X\": x, \"Variable Y\": y})\n",
        "\n",
        "# Compute Pearson & Spearman Correlation\n",
        "pearson_corr, _ = stats.pearsonr(df[\"Variable X\"], df[\"Variable Y\"])\n",
        "spearman_corr, _ = stats.spearmanr(df[\"Variable X\"], df[\"Variable Y\"])\n",
        "\n",
        "# Print results\n",
        "print(f\"Pearson Correlation Coefficient: {pearson_corr:.2f}\")\n",
        "print(f\"Spearman Correlation Coefficient: {spearman_corr:.2f}\")\n"
      ],
      "metadata": {
        "colab": {
          "base_uri": "https://localhost:8080/"
        },
        "id": "5rRysrR6h6j7",
        "outputId": "88079697-9156-4d4a-b52a-0f15ffb50f15"
      },
      "execution_count": 26,
      "outputs": [
        {
          "output_type": "stream",
          "name": "stdout",
          "text": [
            "Pearson Correlation Coefficient: 0.94\n",
            "Spearman Correlation Coefficient: 0.94\n"
          ]
        }
      ]
    }
  ]
}